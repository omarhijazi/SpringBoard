{
 "cells": [
  {
   "cell_type": "markdown",
   "metadata": {},
   "source": [
    "# Examining Racial Discrimination in the US Job Market\n",
    "\n",
    "### Background\n",
    "Racial discrimination continues to be pervasive in cultures throughout the world. Researchers examined the level of racial discrimination in the United States labor market by randomly assigning identical résumés to black-sounding or white-sounding names and observing the impact on requests for interviews from employers.\n",
    "\n",
    "### Data\n",
    "In the dataset provided, each row represents a resume. The 'race' column has two values, 'b' and 'w', indicating black-sounding and white-sounding. The column 'call' has two values, 1 and 0, indicating whether the resume received a call from employers or not.\n",
    "\n",
    "Note that the 'b' and 'w' values in race are assigned randomly to the resumes when presented to the employer."
   ]
  },
  {
   "cell_type": "markdown",
   "metadata": {},
   "source": [
    "### Exercises\n",
    "You will perform a statistical analysis to establish whether race has a significant impact on the rate of callbacks for resumes.\n",
    "\n",
    "Answer the following questions **in this notebook below and submit to your Github account**. \n",
    "\n",
    "   1. What test is appropriate for this problem? Does CLT apply?\n",
    "   2. What are the null and alternate hypotheses?\n",
    "   3. Compute margin of error, confidence interval, and p-value. Try using both the bootstrapping and the frequentist statistical approaches.\n",
    "   4. Write a story describing the statistical significance in the context or the original problem.\n",
    "   5. Does your analysis mean that race/name is the most important factor in callback success? Why or why not? If not, how would you amend your analysis?\n",
    "\n",
    "You can include written notes in notebook cells using Markdown: \n",
    "   - In the control panel at the top, choose Cell > Cell Type > Markdown\n",
    "   - Markdown syntax: http://nestacms.com/docs/creating-content/markdown-cheat-sheet\n",
    "\n",
    "#### Resources\n",
    "+ Experiment information and data source: http://www.povertyactionlab.org/evaluation/discrimination-job-market-united-states\n",
    "+ Scipy statistical methods: http://docs.scipy.org/doc/scipy/reference/stats.html \n",
    "+ Markdown syntax: http://nestacms.com/docs/creating-content/markdown-cheat-sheet\n",
    "+ Formulas for the Bernoulli distribution: https://en.wikipedia.org/wiki/Bernoulli_distribution"
   ]
  },
  {
   "cell_type": "code",
   "execution_count": 89,
   "metadata": {},
   "outputs": [],
   "source": [
    "import pandas as pd\n",
    "import numpy as np\n",
    "from scipy import stats"
   ]
  },
  {
   "cell_type": "code",
   "execution_count": 90,
   "metadata": {},
   "outputs": [],
   "source": [
    "# Read data\n",
    "data = pd.io.stata.read_stata('data/us_job_market_discrimination.dta')\n",
    "\n",
    "# Store white, black, and combined interview calls\n",
    "white = data[data.race=='w']\n",
    "black = data[data.race=='b']\n",
    "calls = data.call.values"
   ]
  },
  {
   "cell_type": "markdown",
   "metadata": {},
   "source": [
    "## Q1: Appropriate Test and Central Limit Theorem\n",
    "\n",
    "We want to test if there is a significant relationship between `applicant race` and `interview offer`. Namely, we want to see if there is a difference between the proportion of interview offers given to `white` and `black` candidates.\n",
    "\n",
    "We will perform this test in two ways:\n",
    "1. `Bootstrap approach - Permutation`\n",
    "2. `Frequentist approach - Two Sample Z Test`\n",
    "\n",
    "Do we meet CLT requirements?\n",
    "1. `Randomness`: will be assumed by the data.\n",
    "2. `Normal`: since we are looking at proportions, we need to verify we have at least `10` successes and `10` failures"
   ]
  },
  {
   "cell_type": "code",
   "execution_count": 91,
   "metadata": {},
   "outputs": [
    {
     "name": "stdout",
     "output_type": "stream",
     "text": [
      "Black: Successes = 157.0 , Failures = 2278.0\n",
      "White: Successes = 235.0 , Failures = 2200.0\n"
     ]
    }
   ],
   "source": [
    "print('Black: Successes =', sum(black.call), ', Failures =', len(black)-sum(black.call))\n",
    "print('White: Successes =', sum(white.call), ', Failures =', len(white)-sum(white.call))"
   ]
  },
  {
   "cell_type": "markdown",
   "metadata": {},
   "source": [
    "3. `Independence`: we have `2435` names from each race, which is much smaller than the entire population. Using the `10% rule`, we can assume independence."
   ]
  },
  {
   "cell_type": "markdown",
   "metadata": {},
   "source": [
    "## Q2: Null and Alternate Hypotheses\n",
    "\n",
    "`H0: P1 - P2 = 0`\n",
    "\n",
    "`Ha: P1 - P2 != 0`\n",
    "\n",
    "`α = 0.05`\n",
    "\n",
    "Here `P1` and `P2` represent the proportion of offers given to white and black candidates respectively."
   ]
  },
  {
   "cell_type": "markdown",
   "metadata": {},
   "source": [
    "## Q3: Conduct Statistical Tests\n",
    "\n",
    "### 1. Bootstrap Approach"
   ]
  },
  {
   "cell_type": "code",
   "execution_count": 92,
   "metadata": {},
   "outputs": [
    {
     "name": "stdout",
     "output_type": "stream",
     "text": [
      "p-value: 0.0\n"
     ]
    }
   ],
   "source": [
    "# Compute size of samples so we don't have to recompute them\n",
    "sample_size = len(calls)\n",
    "half_sample_size = int(sample_size/2)\n",
    "\n",
    "# Compute difference between white and black call proportions\n",
    "proportion_diff = np.abs(sum(white.call) - sum(black.call)) / half_sample_size\n",
    "\n",
    "# Generate 10000 permutations of all calls. For each permutation, assign first half\n",
    "# as white, second half as black and, and store difference of interview proportions.\n",
    "proportion_diffs = np.empty(10000)\n",
    "for i in range(10000) :\n",
    "    rand_perm = np.random.permutation(calls)\n",
    "    white_perm = rand_perm[:half_sample_size]\n",
    "    black_perm = rand_perm[half_sample_size:]\n",
    "    proportion_diffs[i] = ( sum(white_perm) - sum(black_perm) ) / half_sample_size\n",
    "\n",
    "# Count num differences as extreme as observed proportion difference.\n",
    "# Multiply by 2 for two tailed test.\n",
    "print('p-value:', 2 * np.sum(proportion_diffs >= proportion_diff) / 10000)"
   ]
  },
  {
   "cell_type": "markdown",
   "metadata": {},
   "source": [
    "Repeating the experiment above multiple times, `I continuously got p-values that were zero or way below our alpha value of 0.05`. So based on this test, we would `reject the Null Hypothesis` and conclude that there is a relationship between `applicant race` and `interview offer`.\n",
    "\n",
    "### 2. Frequentist Approach"
   ]
  },
  {
   "cell_type": "code",
   "execution_count": 93,
   "metadata": {},
   "outputs": [
    {
     "name": "stdout",
     "output_type": "stream",
     "text": [
      "z-stat:  4.108412152434346\n",
      "p_value:  3.983886837585077e-05\n",
      "margin of error: 0.015281912310894095\n",
      "95% confidence interval: ( 0.01675094189855149 , 0.04731476652033968 )\n"
     ]
    }
   ],
   "source": [
    "# Compute proportions: white, black, both\n",
    "white_prop = sum(white.call) / half_sample_size\n",
    "black_prop = sum(black.call) / half_sample_size\n",
    "prop = (sum(white.call) + sum(black.call)) / sample_size\n",
    "\n",
    "# Compute standard error, margin of error, and z stat: \n",
    "standard_error = np.sqrt( (2*prop*(1-prop))/half_sample_size )\n",
    "z_critical = 1.96\n",
    "margin_of_error = z_critical * standard_error\n",
    "z_stat = (white_prop - black_prop) / standard_error\n",
    "\n",
    "# Calculate p-value. Two tailed test\n",
    "# Use negative z_stat for cdf.\n",
    "p_value = stats.norm.cdf(-z_stat) * 2 \n",
    "\n",
    "# Print Z stat and p-value\n",
    "print('z-stat: ', z_stat)\n",
    "print('p_value: ', p_value)\n",
    "print('margin of error:', margin_of_error)\n",
    "print('95% confidence interval: (', proportion_diff - margin_of_error, ',', proportion_diff + margin_of_error, ')')"
   ]
  },
  {
   "cell_type": "markdown",
   "metadata": {},
   "source": [
    "Again, our `p-value is almost zero`, so just like with the bootstrap test, `we reject the Null Hypothesis` and conclude that there is a significant relationship between `applicant race` and `interview offer`.\n",
    "\n",
    "Another way to look at it is to say that our confidence interval for the difference in proportions is entirely above `0`, which yeilds the same conclusion as above."
   ]
  },
  {
   "cell_type": "markdown",
   "metadata": {},
   "source": [
    "## Q4: Statistical Summary\n",
    "\n",
    "Confining our analysis to the data provided, we conclude that there is a statistical difference between `white` and `black` names and whether or not they receive interview offers. White applicants are `50%` more likley to land an interview than black applicants, which is a significant difference.\n",
    "\n",
    "Racial discrimination has been prevalent for a long period of time, and not only in the employment sector. One idea would be to repeat this experiment accross multiple years and see how the difference in proportions fluctuates."
   ]
  },
  {
   "cell_type": "markdown",
   "metadata": {},
   "source": [
    "## Q5: Further Analysis \n",
    "\n",
    "Our data indicates that `race` is an important factor when it comes to recieving an `interview offer`. Nethertheless, there are other factors which need to be considered such as `education`, `years of experience`, `address`, etc, which all could play a significant role."
   ]
  }
 ],
 "metadata": {
  "kernelspec": {
   "display_name": "Python 3",
   "language": "python",
   "name": "python3"
  },
  "language_info": {
   "codemirror_mode": {
    "name": "ipython",
    "version": 3
   },
   "file_extension": ".py",
   "mimetype": "text/x-python",
   "name": "python",
   "nbconvert_exporter": "python",
   "pygments_lexer": "ipython3",
   "version": "3.7.0"
  }
 },
 "nbformat": 4,
 "nbformat_minor": 1
}
