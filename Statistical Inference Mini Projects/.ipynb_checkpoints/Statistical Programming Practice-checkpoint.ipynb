{
 "cells": [
  {
   "cell_type": "code",
   "execution_count": 1,
   "metadata": {},
   "outputs": [],
   "source": [
    "import matplotlib.pyplot as plt\n",
    "import numpy as np\n",
    "import seaborn as sns\n",
    "\n",
    "sns.set()"
   ]
  },
  {
   "cell_type": "markdown",
   "metadata": {},
   "source": [
    "### Simulate Flips of a Coin\n",
    "\n",
    "We will simulate 10 flips of coin. Here, each coin flip is a bernouli trial with `p = 0.5`, `1 - p = 0.5` where `p = probability of heads`. Thus, we are performing 10 Bernouli Trials.\n",
    "\n",
    "For each random number generated between (0, 1), a `value < 0.5` ===> heads, a `value  >= 0.5` ===> tails"
   ]
  },
  {
   "cell_type": "code",
   "execution_count": 5,
   "metadata": {},
   "outputs": [
    {
     "data": {
      "text/plain": [
       "array([0.77132064, 0.02075195, 0.63364823, 0.74880388, 0.49850701,\n",
       "       0.22479665, 0.19806286, 0.76053071, 0.16911084, 0.08833981])"
      ]
     },
     "execution_count": 5,
     "metadata": {},
     "output_type": "execute_result"
    }
   ],
   "source": [
    "# Seed random generator\n",
    "np.random.seed(10)\n",
    "\n",
    "# Generate 10 flips of a coin\n",
    "random_nums = np.random.random(size=10)\n",
    "random_nums"
   ]
  },
  {
   "cell_type": "code",
   "execution_count": 6,
   "metadata": {},
   "outputs": [
    {
     "data": {
      "text/plain": [
       "array([False,  True, False, False,  True,  True,  True, False,  True,\n",
       "        True])"
      ]
     },
     "execution_count": 6,
     "metadata": {},
     "output_type": "execute_result"
    }
   ],
   "source": [
    "# Determinne which flips are heads\n",
    "heads = random_nums < 0.5\n",
    "heads"
   ]
  },
  {
   "cell_type": "code",
   "execution_count": 7,
   "metadata": {},
   "outputs": [
    {
     "data": {
      "text/plain": [
       "6"
      ]
     },
     "execution_count": 7,
     "metadata": {},
     "output_type": "execute_result"
    }
   ],
   "source": [
    "# Count number of heads\n",
    "np.sum(heads)"
   ]
  },
  {
   "cell_type": "markdown",
   "metadata": {},
   "source": [
    "Ok so we got 6 flips out of 10 to be heads.\n",
    "\n",
    "Suppose we were to repeat this experiment 10000 times and then ask: `What is the probability of getting exactly 8 heads out of 10?`"
   ]
  },
  {
   "cell_type": "code",
   "execution_count": 17,
   "metadata": {},
   "outputs": [
    {
     "name": "stdout",
     "output_type": "stream",
     "text": [
      "0.0413\n"
     ]
    }
   ],
   "source": [
    "# Count num occurrences where 8/10 flips = heads. Repeat 10000 times\n",
    "num_eight_heads = 0\n",
    "for i in range(10000):\n",
    "    random_nums = np.random.random(size=10) # Generate 10 random flips\n",
    "    if np.sum( random_nums < 0.5 ) == 8: # Check if num heads == 8\n",
    "        num_eight_heads += 1\n",
    "\n",
    "# Print simulated probability of getting 8 heads out of 10 flips\n",
    "print(num_eight_heads / 10000)"
   ]
  },
  {
   "cell_type": "markdown",
   "metadata": {},
   "source": [
    "Let's repeat the above, and look at the `distribution of head counts` for the experiment above."
   ]
  },
  {
   "cell_type": "code",
   "execution_count": 37,
   "metadata": {},
   "outputs": [
    {
     "data": {
      "image/png": "[encoded data removed]",
      "text/plain": [
       "<Figure size 432x288 with 1 Axes>"
      ]
     },
     "metadata": {
      "needs_background": "light"
     },
     "output_type": "display_data"
    }
   ],
   "source": [
    "# Simulate 10 coin flips. Repeat 10000 times. Plot distribution of heads.\n",
    "num_heads = np.empty(10000)\n",
    "for i in range(10000):\n",
    "    random_nums = np.random.random(size=10) # Generate 10 random flips\n",
    "    num_heads[i] = np.sum( random_nums < 0.5) # Save num heads\n",
    "\n",
    "# Print distribution as a histogram\n",
    "plt.hist(num_heads, bins=np.arange(0, 12), color='purple', alpha=0.7, density=True)\n",
    "plt.show()"
   ]
  },
  {
   "cell_type": "markdown",
   "metadata": {},
   "source": [
    "We can clearly see a `binomial distribution`, which is what we expect. Let's also plot a CDF of the data above."
   ]
  },
  {
   "cell_type": "code",
   "execution_count": 39,
   "metadata": {},
   "outputs": [
    {
     "data": {
      "image/png": "[encoded data removed]",
      "text/plain": [
       "<Figure size 432x288 with 1 Axes>"
      ]
     },
     "metadata": {
      "needs_background": "light"
     },
     "output_type": "display_data"
    }
   ],
   "source": [
    "x = np.sort(num_heads)\n",
    "y = np.arange(1, len(num_heads) + 1)/ len(num_heads)\n",
    "plt.plot(x, y, marker='.', linestyle='none')\n",
    "plt.xlabel('Num of Heads out of 10 flips')\n",
    "plt.ylabel('ECDF')\n",
    "plt.show()"
   ]
  },
  {
   "cell_type": "code",
   "execution_count": null,
   "metadata": {},
   "outputs": [],
   "source": []
  }
 ],
 "metadata": {
  "kernelspec": {
   "display_name": "Python 3",
   "language": "python",
   "name": "python3"
  },
  "language_info": {
   "codemirror_mode": {
    "name": "ipython",
    "version": 3
   },
   "file_extension": ".py",
   "mimetype": "text/x-python",
   "name": "python",
   "nbconvert_exporter": "python",
   "pygments_lexer": "ipython3",
   "version": "3.7.0"
  }
 },
 "nbformat": 4,
 "nbformat_minor": 2
}
