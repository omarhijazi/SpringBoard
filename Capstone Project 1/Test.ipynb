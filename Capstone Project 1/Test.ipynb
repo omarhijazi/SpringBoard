{
 "cells": [
  {
   "cell_type": "code",
   "execution_count": 240,
   "metadata": {},
   "outputs": [],
   "source": [
    "# Import necessary packages\n",
    "import pandas as pd\n",
    "import matplotlib.pyplot as plt\n",
    "from datetime import datetime, timedelta\n",
    "import numpy as np"
   ]
  },
  {
   "cell_type": "code",
   "execution_count": 241,
   "metadata": {},
   "outputs": [
    {
     "name": "stdout",
     "output_type": "stream",
     "text": [
      "<class 'pandas.core.frame.DataFrame'>\n",
      "DatetimeIndex: 267132 entries, 2001-01-01 23:39:13 to 2017-12-31 23:56:35\n",
      "Data columns (total 6 columns):\n",
      "tpep_dropoff_datetime    267132 non-null datetime64[ns]\n",
      "passenger_count          267132 non-null int64\n",
      "trip_distance            267132 non-null float64\n",
      "PULocationID             267132 non-null int64\n",
      "DOLocationID             267132 non-null int64\n",
      "fare_amount              267132 non-null float64\n",
      "dtypes: datetime64[ns](1), float64(2), int64(3)\n",
      "memory usage: 14.3 MB\n"
     ]
    }
   ],
   "source": [
    "# Read aggrgated data for 2017, remembering it was sampled to include every 400th element.\n",
    "data = pd.read_csv('data/tripdata_2017.csv', parse_dates=[0, 1], index_col=0)\n",
    "data.info()"
   ]
  },
  {
   "cell_type": "markdown",
   "metadata": {},
   "source": [
    "## Feature Engineering\n",
    "\n",
    "Add the following features:\n",
    "1. Trip duration in seconds\n",
    "2. Avg speed in mph\n",
    "3. Day of week\n",
    "4. Hour of day\n",
    "5. Month of year\n",
    "6. Fare per mile (will use to validate for fares)"
   ]
  },
  {
   "cell_type": "code",
   "execution_count": 242,
   "metadata": {},
   "outputs": [],
   "source": [
    "# Store trip duration in seconds\n",
    "data['trip_duration'] = (data.tpep_dropoff_datetime - data.index).transform(lambda x: x.total_seconds())"
   ]
  },
  {
   "cell_type": "code",
   "execution_count": 243,
   "metadata": {},
   "outputs": [],
   "source": [
    "# Calculate avg speed (mph).\n",
    "data['avg_speed'] = round((3600 * data.trip_distance) / data.trip_duration, 2)"
   ]
  },
  {
   "cell_type": "code",
   "execution_count": 244,
   "metadata": {},
   "outputs": [],
   "source": [
    "# Create day_dict to use for mapping\n",
    "day_dict = {0:'Mon', 1:'Tus', 2:'Wed', 3:'Thu', 4:'Fri', 5:'Sat', 6:'Sun'}\n",
    "\n",
    "# Create new feature: day of week\n",
    "data['day_of_week'] = data.index.weekday.map(day_dict).astype('category')"
   ]
  },
  {
   "cell_type": "code",
   "execution_count": 245,
   "metadata": {},
   "outputs": [],
   "source": [
    "# Create two new features: hour and month\n",
    "data['hour_of_day'] = data.index.hour.astype('category')\n",
    "data['month'] = data.index.month.astype('category')"
   ]
  },
  {
   "cell_type": "code",
   "execution_count": 246,
   "metadata": {},
   "outputs": [],
   "source": [
    "# Calculate fare charged per mile\n",
    "data['fare_per_mile'] = round((data.fare_amount) / data.trip_distance, 2)\n",
    "\n",
    "# Replace positive and negative infinity values with NaN\n",
    "data.replace(np.inf, np.nan, inplace=True)\n",
    "data.replace(np.NINF, np.nan, inplace=True)"
   ]
  },
  {
   "cell_type": "code",
   "execution_count": 247,
   "metadata": {},
   "outputs": [
    {
     "name": "stdout",
     "output_type": "stream",
     "text": [
      "<class 'pandas.core.frame.DataFrame'>\n",
      "DatetimeIndex: 267132 entries, 2001-01-01 23:39:13 to 2017-12-31 23:56:35\n",
      "Data columns (total 12 columns):\n",
      "tpep_dropoff_datetime    267132 non-null datetime64[ns]\n",
      "passenger_count          267132 non-null int64\n",
      "trip_distance            267132 non-null float64\n",
      "PULocationID             267132 non-null int64\n",
      "DOLocationID             267132 non-null int64\n",
      "fare_amount              267132 non-null float64\n",
      "trip_duration            267132 non-null float64\n",
      "avg_speed                266935 non-null float64\n",
      "day_of_week              267132 non-null category\n",
      "hour_of_day              267132 non-null category\n",
      "month                    267132 non-null category\n",
      "fare_per_mile            266058 non-null float64\n",
      "dtypes: category(3), datetime64[ns](1), float64(5), int64(3)\n",
      "memory usage: 21.1 MB\n"
     ]
    }
   ],
   "source": [
    "data.info()"
   ]
  },
  {
   "cell_type": "markdown",
   "metadata": {},
   "source": [
    "## Remove Uncessary Features\n",
    "Features we don't need:\n",
    "1. Pickup time and date\n",
    "2. Dropoff time and date\n",
    "3. Pickup Location ID\n",
    "4. Drop off Location ID"
   ]
  },
  {
   "cell_type": "code",
   "execution_count": 208,
   "metadata": {},
   "outputs": [
    {
     "data": {
      "text/html": [
       "<div>\n",
       "<style scoped>\n",
       "    .dataframe tbody tr th:only-of-type {\n",
       "        vertical-align: middle;\n",
       "    }\n",
       "\n",
       "    .dataframe tbody tr th {\n",
       "        vertical-align: top;\n",
       "    }\n",
       "\n",
       "    .dataframe thead th {\n",
       "        text-align: right;\n",
       "    }\n",
       "</style>\n",
       "<table border=\"1\" class=\"dataframe\">\n",
       "  <thead>\n",
       "    <tr style=\"text-align: right;\">\n",
       "      <th></th>\n",
       "      <th>passenger_count</th>\n",
       "      <th>trip_distance</th>\n",
       "      <th>fare_amount</th>\n",
       "      <th>trip_duration</th>\n",
       "      <th>avg_speed</th>\n",
       "      <th>day_of_week</th>\n",
       "      <th>hour_of_day</th>\n",
       "      <th>month</th>\n",
       "      <th>fare_per_mile</th>\n",
       "    </tr>\n",
       "  </thead>\n",
       "  <tbody>\n",
       "    <tr>\n",
       "      <th>0</th>\n",
       "      <td>1</td>\n",
       "      <td>0.56</td>\n",
       "      <td>11.0</td>\n",
       "      <td>1329.0</td>\n",
       "      <td>1.52</td>\n",
       "      <td>Mon</td>\n",
       "      <td>23</td>\n",
       "      <td>1</td>\n",
       "      <td>19.64</td>\n",
       "    </tr>\n",
       "    <tr>\n",
       "      <th>1</th>\n",
       "      <td>1</td>\n",
       "      <td>0.00</td>\n",
       "      <td>2.5</td>\n",
       "      <td>53423.0</td>\n",
       "      <td>0.00</td>\n",
       "      <td>Sat</td>\n",
       "      <td>6</td>\n",
       "      <td>1</td>\n",
       "      <td>NaN</td>\n",
       "    </tr>\n",
       "    <tr>\n",
       "      <th>2</th>\n",
       "      <td>1</td>\n",
       "      <td>0.00</td>\n",
       "      <td>1.5</td>\n",
       "      <td>38.0</td>\n",
       "      <td>0.00</td>\n",
       "      <td>Tus</td>\n",
       "      <td>0</td>\n",
       "      <td>1</td>\n",
       "      <td>NaN</td>\n",
       "    </tr>\n",
       "    <tr>\n",
       "      <th>3</th>\n",
       "      <td>1</td>\n",
       "      <td>0.90</td>\n",
       "      <td>7.5</td>\n",
       "      <td>540.0</td>\n",
       "      <td>6.00</td>\n",
       "      <td>Wed</td>\n",
       "      <td>17</td>\n",
       "      <td>12</td>\n",
       "      <td>8.33</td>\n",
       "    </tr>\n",
       "    <tr>\n",
       "      <th>4</th>\n",
       "      <td>1</td>\n",
       "      <td>0.93</td>\n",
       "      <td>5.5</td>\n",
       "      <td>337.0</td>\n",
       "      <td>9.93</td>\n",
       "      <td>Wed</td>\n",
       "      <td>23</td>\n",
       "      <td>12</td>\n",
       "      <td>5.91</td>\n",
       "    </tr>\n",
       "  </tbody>\n",
       "</table>\n",
       "</div>"
      ],
      "text/plain": [
       "   passenger_count  trip_distance  fare_amount  trip_duration  avg_speed  \\\n",
       "0                1           0.56         11.0         1329.0       1.52   \n",
       "1                1           0.00          2.5        53423.0       0.00   \n",
       "2                1           0.00          1.5           38.0       0.00   \n",
       "3                1           0.90          7.5          540.0       6.00   \n",
       "4                1           0.93          5.5          337.0       9.93   \n",
       "\n",
       "  day_of_week hour_of_day month  fare_per_mile  \n",
       "0         Mon          23     1          19.64  \n",
       "1         Sat           6     1            NaN  \n",
       "2         Tus           0     1            NaN  \n",
       "3         Wed          17    12           8.33  \n",
       "4         Wed          23    12           5.91  "
      ]
     },
     "execution_count": 208,
     "metadata": {},
     "output_type": "execute_result"
    }
   ],
   "source": [
    "# Drop unnescessary features\n",
    "to_drop = ['tpep_pickup_datetime', 'tpep_dropoff_datetime', 'PULocationID', 'DOLocationID']\n",
    "data = data.reset_index().drop(to_drop, axis=1)\n",
    "data.head()"
   ]
  },
  {
   "cell_type": "markdown",
   "metadata": {},
   "source": [
    "## Feature Cleaning\n",
    "\n",
    "### Trip Duration\n",
    "\n",
    "We will limit trip durations from 0 seconds to 3 hours. All other trip durations are outliers or invalid."
   ]
  },
  {
   "cell_type": "code",
   "execution_count": 209,
   "metadata": {},
   "outputs": [
    {
     "data": {
      "image/png": "[encoded data removed]",
      "text/plain": [
       "<Figure size 432x288 with 1 Axes>"
      ]
     },
     "metadata": {
      "needs_background": "light"
     },
     "output_type": "display_data"
    }
   ],
   "source": [
    "plt.boxplot(data.trip_duration, vert=False)\n",
    "plt.show()"
   ]
  },
  {
   "cell_type": "code",
   "execution_count": 210,
   "metadata": {},
   "outputs": [
    {
     "name": "stdout",
     "output_type": "stream",
     "text": [
      "Removing trips with trip durations > 3 hours or < 0 seconds\n",
      "Dataset size before:  267132\n",
      "Dataset size after:  266681\n"
     ]
    }
   ],
   "source": [
    "# Cap trip durations to 3 hours. Remove any negative trip durations.\n",
    "print('Removing trips with trip durations > 3 hours or < 0 seconds')\n",
    "print('Dataset size before: ', len(data))\n",
    "data = data[(data.trip_duration <= 10800) & (data.trip_duration >= 0)] \n",
    "print('Dataset size after: ', len(data))"
   ]
  },
  {
   "cell_type": "markdown",
   "metadata": {},
   "source": [
    "### Fare Amount\n",
    "\n",
    "Limit fare amount from `$0` to $200. All other values are outliers or invalid.\n",
    "\n",
    "Keep fare amount = $0 because rider may not have came, while driver has started the timer."
   ]
  },
  {
   "cell_type": "code",
   "execution_count": 211,
   "metadata": {},
   "outputs": [
    {
     "data": {
      "image/png": "[encoded data removed]",
      "text/plain": [
       "<Figure size 432x288 with 1 Axes>"
      ]
     },
     "metadata": {
      "needs_background": "light"
     },
     "output_type": "display_data"
    }
   ],
   "source": [
    "plt.boxplot(data.fare_amount, vert=False)\n",
    "plt.show()"
   ]
  },
  {
   "cell_type": "code",
   "execution_count": 212,
   "metadata": {},
   "outputs": [
    {
     "name": "stdout",
     "output_type": "stream",
     "text": [
      "Removing trips with fare amount > $250 or < $0\n",
      "Dataset size before:  266681\n",
      "Dataset size after:  266569\n"
     ]
    }
   ],
   "source": [
    "print('Removing trips with fare amount > $200 or < $0')\n",
    "print('Dataset size before: ', len(data))\n",
    "data = data[(data.fare_amount >= 0) & (data.fare_amount <= 200)] \n",
    "print('Dataset size after: ', len(data))"
   ]
  },
  {
   "cell_type": "markdown",
   "metadata": {},
   "source": [
    "### Trip Distance\n"
   ]
  },
  {
   "cell_type": "code",
   "execution_count": 213,
   "metadata": {},
   "outputs": [
    {
     "data": {
      "image/png": "[encoded data removed]",
      "text/plain": [
       "<Figure size 432x288 with 1 Axes>"
      ]
     },
     "metadata": {
      "needs_background": "light"
     },
     "output_type": "display_data"
    }
   ],
   "source": [
    "plt.boxplot(data.trip_distance, vert=False)\n",
    "plt.show()"
   ]
  },
  {
   "cell_type": "code",
   "execution_count": 214,
   "metadata": {},
   "outputs": [
    {
     "name": "stdout",
     "output_type": "stream",
     "text": [
      "Removing trips with trip distance > 100 miles or < 0 mile\n",
      "Dataset size before:  266569\n",
      "Dataset size after:  266568\n"
     ]
    }
   ],
   "source": [
    "print('Removing trips with trip distance > 100 miles or < 0 mile')\n",
    "print('Dataset size before: ', len(data))\n",
    "data = data[(data.trip_distance >= 0) & (data.trip_distance <= 100)] \n",
    "print('Dataset size after: ', len(data))"
   ]
  },
  {
   "cell_type": "code",
   "execution_count": null,
   "metadata": {},
   "outputs": [],
   "source": []
  },
  {
   "cell_type": "code",
   "execution_count": null,
   "metadata": {},
   "outputs": [],
   "source": []
  },
  {
   "cell_type": "code",
   "execution_count": 222,
   "metadata": {},
   "outputs": [],
   "source": [
    "# data.hist(figsize=(20, 15))\n",
    "# plt.show()"
   ]
  },
  {
   "cell_type": "code",
   "execution_count": 227,
   "metadata": {},
   "outputs": [
    {
     "data": {
      "text/plain": [
       "<matplotlib.collections.PathCollection at 0x11b9539e8>"
      ]
     },
     "execution_count": 227,
     "metadata": {},
     "output_type": "execute_result"
    },
    {
     "data": {
      "image/png": "[encoded data removed]",
      "text/plain": [
       "<Figure size 432x288 with 1 Axes>"
      ]
     },
     "metadata": {
      "needs_background": "light"
     },
     "output_type": "display_data"
    }
   ],
   "source": [
    "plt.scatter(data.trip_distance, data.fare_amount, marker='.')"
   ]
  },
  {
   "cell_type": "code",
   "execution_count": 225,
   "metadata": {},
   "outputs": [
    {
     "data": {
      "text/plain": [
       "<matplotlib.axes._subplots.AxesSubplot at 0x12ed4eb70>"
      ]
     },
     "execution_count": 225,
     "metadata": {},
     "output_type": "execute_result"
    },
    {
     "data": {
      "image/png": "[encoded data removed]",
      "text/plain": [
       "<Figure size 432x288 with 1 Axes>"
      ]
     },
     "metadata": {
      "needs_background": "light"
     },
     "output_type": "display_data"
    }
   ],
   "source": [
    "data.plot(kind='scatter', x='trip_distance', y='trip_duration', marker='.')"
   ]
  },
  {
   "cell_type": "code",
   "execution_count": 228,
   "metadata": {},
   "outputs": [
    {
     "data": {
      "text/plain": [
       "<matplotlib.axes._subplots.AxesSubplot at 0x127d3b080>"
      ]
     },
     "execution_count": 228,
     "metadata": {},
     "output_type": "execute_result"
    },
    {
     "data": {
      "image/png": "[encoded data removed]",
      "text/plain": [
       "<Figure size 432x288 with 1 Axes>"
      ]
     },
     "metadata": {
      "needs_background": "light"
     },
     "output_type": "display_data"
    }
   ],
   "source": [
    "data.plot(kind='scatter', x='trip_duration', y='fare_amount', marker='.')"
   ]
  },
  {
   "cell_type": "code",
   "execution_count": 232,
   "metadata": {},
   "outputs": [
    {
     "name": "stdout",
     "output_type": "stream",
     "text": [
      "<class 'pandas.core.frame.DataFrame'>\n",
      "Int64Index: 266568 entries, 0 to 267131\n",
      "Data columns (total 9 columns):\n",
      "passenger_count    266568 non-null int64\n",
      "trip_distance      266568 non-null float64\n",
      "fare_amount        266568 non-null float64\n",
      "trip_duration      266568 non-null float64\n",
      "avg_speed          266371 non-null float64\n",
      "day_of_week        266568 non-null category\n",
      "hour_of_day        266568 non-null category\n",
      "month              266568 non-null category\n",
      "fare_per_mile      265514 non-null float64\n",
      "dtypes: category(3), float64(5), int64(1)\n",
      "memory usage: 15.0 MB\n"
     ]
    }
   ],
   "source": [
    "data.info()"
   ]
  },
  {
   "cell_type": "code",
   "execution_count": 236,
   "metadata": {},
   "outputs": [
    {
     "data": {
      "text/html": [
       "<div>\n",
       "<style scoped>\n",
       "    .dataframe tbody tr th:only-of-type {\n",
       "        vertical-align: middle;\n",
       "    }\n",
       "\n",
       "    .dataframe tbody tr th {\n",
       "        vertical-align: top;\n",
       "    }\n",
       "\n",
       "    .dataframe thead th {\n",
       "        text-align: right;\n",
       "    }\n",
       "</style>\n",
       "<table border=\"1\" class=\"dataframe\">\n",
       "  <thead>\n",
       "    <tr style=\"text-align: right;\">\n",
       "      <th></th>\n",
       "      <th>passenger_count</th>\n",
       "      <th>trip_distance</th>\n",
       "      <th>fare_amount</th>\n",
       "      <th>trip_duration</th>\n",
       "      <th>avg_speed</th>\n",
       "      <th>day_of_week</th>\n",
       "      <th>hour_of_day</th>\n",
       "      <th>month</th>\n",
       "      <th>fare_per_mile</th>\n",
       "    </tr>\n",
       "  </thead>\n",
       "  <tbody>\n",
       "    <tr>\n",
       "      <th>3471</th>\n",
       "      <td>1</td>\n",
       "      <td>0.0</td>\n",
       "      <td>4.5</td>\n",
       "      <td>0.0</td>\n",
       "      <td>NaN</td>\n",
       "      <td>Fri</td>\n",
       "      <td>6</td>\n",
       "      <td>1</td>\n",
       "      <td>NaN</td>\n",
       "    </tr>\n",
       "    <tr>\n",
       "      <th>4255</th>\n",
       "      <td>2</td>\n",
       "      <td>0.0</td>\n",
       "      <td>13.5</td>\n",
       "      <td>0.0</td>\n",
       "      <td>NaN</td>\n",
       "      <td>Sat</td>\n",
       "      <td>0</td>\n",
       "      <td>1</td>\n",
       "      <td>NaN</td>\n",
       "    </tr>\n",
       "    <tr>\n",
       "      <th>4567</th>\n",
       "      <td>1</td>\n",
       "      <td>0.0</td>\n",
       "      <td>3.5</td>\n",
       "      <td>0.0</td>\n",
       "      <td>NaN</td>\n",
       "      <td>Sat</td>\n",
       "      <td>13</td>\n",
       "      <td>1</td>\n",
       "      <td>NaN</td>\n",
       "    </tr>\n",
       "    <tr>\n",
       "      <th>4825</th>\n",
       "      <td>1</td>\n",
       "      <td>0.0</td>\n",
       "      <td>13.5</td>\n",
       "      <td>0.0</td>\n",
       "      <td>NaN</td>\n",
       "      <td>Sat</td>\n",
       "      <td>19</td>\n",
       "      <td>1</td>\n",
       "      <td>NaN</td>\n",
       "    </tr>\n",
       "    <tr>\n",
       "      <th>5710</th>\n",
       "      <td>1</td>\n",
       "      <td>0.0</td>\n",
       "      <td>3.5</td>\n",
       "      <td>0.0</td>\n",
       "      <td>NaN</td>\n",
       "      <td>Mon</td>\n",
       "      <td>5</td>\n",
       "      <td>1</td>\n",
       "      <td>NaN</td>\n",
       "    </tr>\n",
       "  </tbody>\n",
       "</table>\n",
       "</div>"
      ],
      "text/plain": [
       "      passenger_count  trip_distance  fare_amount  trip_duration  avg_speed  \\\n",
       "3471                1            0.0          4.5            0.0        NaN   \n",
       "4255                2            0.0         13.5            0.0        NaN   \n",
       "4567                1            0.0          3.5            0.0        NaN   \n",
       "4825                1            0.0         13.5            0.0        NaN   \n",
       "5710                1            0.0          3.5            0.0        NaN   \n",
       "\n",
       "     day_of_week hour_of_day month  fare_per_mile  \n",
       "3471         Fri           6     1            NaN  \n",
       "4255         Sat           0     1            NaN  \n",
       "4567         Sat          13     1            NaN  \n",
       "4825         Sat          19     1            NaN  \n",
       "5710         Mon           5     1            NaN  "
      ]
     },
     "execution_count": 236,
     "metadata": {},
     "output_type": "execute_result"
    }
   ],
   "source": [
    "data[data.avg_speed.isnull()].head()"
   ]
  },
  {
   "cell_type": "code",
   "execution_count": null,
   "metadata": {},
   "outputs": [],
   "source": []
  }
 ],
 "metadata": {
  "kernelspec": {
   "display_name": "Python 3",
   "language": "python",
   "name": "python3"
  },
  "language_info": {
   "codemirror_mode": {
    "name": "ipython",
    "version": 3
   },
   "file_extension": ".py",
   "mimetype": "text/x-python",
   "name": "python",
   "nbconvert_exporter": "python",
   "pygments_lexer": "ipython3",
   "version": "3.7.0"
  }
 },
 "nbformat": 4,
 "nbformat_minor": 2
}
