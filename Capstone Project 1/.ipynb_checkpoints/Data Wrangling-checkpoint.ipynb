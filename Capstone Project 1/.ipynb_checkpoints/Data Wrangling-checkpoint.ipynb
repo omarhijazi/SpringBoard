{
 "cells": [
  {
   "cell_type": "markdown",
   "metadata": {},
   "source": [
    "# Data Wrangling\n",
    "\n",
    "This is the second step in our data cleaning process. In the [first step](./Data%20Aggregation.ipynb), we aggregated data from the NYC Taxi and Limousine Commission and sampled it into a representative subset. In this phase, we will wrangle and clean the dataset, carefully looking at outliers, disproportionate data, invalid entries, and more.\n",
    "\n",
    "Here are the key issues we address:\n",
    "1. Date-Range Validation\n",
    "2. Dealing With Invalid Trip Durations\n",
    "3. Trip Distance Cleaning\n",
    "4. Fare Amount Cleaning\n",
    "5. Cleaning Other Columns and Categorizing Data\n",
    "6. Adding Extra Features: `avg_speed`, `day_of_week`, and `hour_of_day`\n",
    "7. Cleaning Disprportionate Data\n",
    "\n",
    "Let's start by importing the necessary packages and reading the dataset."
   ]
  },
  {
   "cell_type": "code",
   "execution_count": 524,
   "metadata": {},
   "outputs": [],
   "source": [
    "# Import necessary packages\n",
    "import pandas as pd\n",
    "import matplotlib.pyplot as plt\n",
    "from datetime import datetime, timedelta"
   ]
  },
  {
   "cell_type": "code",
   "execution_count": 525,
   "metadata": {},
   "outputs": [],
   "source": [
    "# Read aggrgated data for 2017, remembering it was sampled to include every 400th element.\n",
    "data = pd.read_csv('data/tripdata_2017.csv', parse_dates=[0, 1], index_col=0)"
   ]
  },
  {
   "cell_type": "markdown",
   "metadata": {},
   "source": [
    "Notice the dataset is complete and we have no missing values."
   ]
  },
  {
   "cell_type": "code",
   "execution_count": 526,
   "metadata": {},
   "outputs": [
    {
     "name": "stdout",
     "output_type": "stream",
     "text": [
      "<class 'pandas.core.frame.DataFrame'>\n",
      "DatetimeIndex: 267132 entries, 2001-01-01 23:39:13 to 2017-12-31 23:56:35\n",
      "Data columns (total 6 columns):\n",
      "tpep_dropoff_datetime    267132 non-null datetime64[ns]\n",
      "passenger_count          267132 non-null int64\n",
      "trip_distance            267132 non-null float64\n",
      "PULocationID             267132 non-null int64\n",
      "DOLocationID             267132 non-null int64\n",
      "fare_amount              267132 non-null float64\n",
      "dtypes: datetime64[ns](1), float64(2), int64(3)\n",
      "memory usage: 14.3 MB\n"
     ]
    }
   ],
   "source": [
    "data.info()"
   ]
  },
  {
   "cell_type": "markdown",
   "metadata": {},
   "source": [
    "## Date-Range Validation\n",
    "\n",
    "Let's start by checking the `head` and `tail` of the dataset to see if there are any entries outside of 2017. Remember, the dataset is already sorted by `pickup date/time`, so `head` and `tail` work perfectly here."
   ]
  },
  {
   "cell_type": "code",
   "execution_count": 527,
   "metadata": {},
   "outputs": [
    {
     "data": {
      "text/html": [
       "<div>\n",
       "<style scoped>\n",
       "    .dataframe tbody tr th:only-of-type {\n",
       "        vertical-align: middle;\n",
       "    }\n",
       "\n",
       "    .dataframe tbody tr th {\n",
       "        vertical-align: top;\n",
       "    }\n",
       "\n",
       "    .dataframe thead th {\n",
       "        text-align: right;\n",
       "    }\n",
       "</style>\n",
       "<table border=\"1\" class=\"dataframe\">\n",
       "  <thead>\n",
       "    <tr style=\"text-align: right;\">\n",
       "      <th></th>\n",
       "      <th>tpep_dropoff_datetime</th>\n",
       "      <th>passenger_count</th>\n",
       "      <th>trip_distance</th>\n",
       "      <th>PULocationID</th>\n",
       "      <th>DOLocationID</th>\n",
       "      <th>fare_amount</th>\n",
       "    </tr>\n",
       "    <tr>\n",
       "      <th>tpep_pickup_datetime</th>\n",
       "      <th></th>\n",
       "      <th></th>\n",
       "      <th></th>\n",
       "      <th></th>\n",
       "      <th></th>\n",
       "      <th></th>\n",
       "    </tr>\n",
       "  </thead>\n",
       "  <tbody>\n",
       "    <tr>\n",
       "      <th>2001-01-01 23:39:13</th>\n",
       "      <td>2001-01-02 00:01:22</td>\n",
       "      <td>1</td>\n",
       "      <td>0.56</td>\n",
       "      <td>230</td>\n",
       "      <td>163</td>\n",
       "      <td>11.0</td>\n",
       "    </tr>\n",
       "    <tr>\n",
       "      <th>2001-01-06 06:10:12</th>\n",
       "      <td>2001-01-06 21:00:35</td>\n",
       "      <td>1</td>\n",
       "      <td>0.00</td>\n",
       "      <td>7</td>\n",
       "      <td>7</td>\n",
       "      <td>2.5</td>\n",
       "    </tr>\n",
       "    <tr>\n",
       "      <th>2003-01-14 00:17:13</th>\n",
       "      <td>2003-01-14 00:17:51</td>\n",
       "      <td>1</td>\n",
       "      <td>0.00</td>\n",
       "      <td>264</td>\n",
       "      <td>264</td>\n",
       "      <td>1.5</td>\n",
       "    </tr>\n",
       "    <tr>\n",
       "      <th>2008-12-31 17:48:27</th>\n",
       "      <td>2008-12-31 17:57:27</td>\n",
       "      <td>1</td>\n",
       "      <td>0.90</td>\n",
       "      <td>162</td>\n",
       "      <td>264</td>\n",
       "      <td>7.5</td>\n",
       "    </tr>\n",
       "    <tr>\n",
       "      <th>2008-12-31 23:34:04</th>\n",
       "      <td>2008-12-31 23:39:41</td>\n",
       "      <td>1</td>\n",
       "      <td>0.93</td>\n",
       "      <td>237</td>\n",
       "      <td>140</td>\n",
       "      <td>5.5</td>\n",
       "    </tr>\n",
       "    <tr>\n",
       "      <th>2017-01-01 00:00:02</th>\n",
       "      <td>2017-01-01 00:03:50</td>\n",
       "      <td>1</td>\n",
       "      <td>0.50</td>\n",
       "      <td>48</td>\n",
       "      <td>48</td>\n",
       "      <td>4.0</td>\n",
       "    </tr>\n",
       "    <tr>\n",
       "      <th>2017-01-01 00:03:37</th>\n",
       "      <td>2017-01-01 00:12:37</td>\n",
       "      <td>1</td>\n",
       "      <td>1.39</td>\n",
       "      <td>79</td>\n",
       "      <td>249</td>\n",
       "      <td>8.0</td>\n",
       "    </tr>\n",
       "    <tr>\n",
       "      <th>2017-01-01 00:06:01</th>\n",
       "      <td>2017-01-01 00:13:45</td>\n",
       "      <td>1</td>\n",
       "      <td>1.54</td>\n",
       "      <td>209</td>\n",
       "      <td>13</td>\n",
       "      <td>7.5</td>\n",
       "    </tr>\n",
       "    <tr>\n",
       "      <th>2017-01-01 00:07:54</th>\n",
       "      <td>2017-01-01 00:17:34</td>\n",
       "      <td>1</td>\n",
       "      <td>1.86</td>\n",
       "      <td>141</td>\n",
       "      <td>233</td>\n",
       "      <td>8.5</td>\n",
       "    </tr>\n",
       "    <tr>\n",
       "      <th>2017-01-01 00:09:27</th>\n",
       "      <td>2017-01-01 00:14:41</td>\n",
       "      <td>1</td>\n",
       "      <td>0.90</td>\n",
       "      <td>186</td>\n",
       "      <td>68</td>\n",
       "      <td>5.5</td>\n",
       "    </tr>\n",
       "  </tbody>\n",
       "</table>\n",
       "</div>"
      ],
      "text/plain": [
       "                     tpep_dropoff_datetime  passenger_count  trip_distance  \\\n",
       "tpep_pickup_datetime                                                         \n",
       "2001-01-01 23:39:13    2001-01-02 00:01:22                1           0.56   \n",
       "2001-01-06 06:10:12    2001-01-06 21:00:35                1           0.00   \n",
       "2003-01-14 00:17:13    2003-01-14 00:17:51                1           0.00   \n",
       "2008-12-31 17:48:27    2008-12-31 17:57:27                1           0.90   \n",
       "2008-12-31 23:34:04    2008-12-31 23:39:41                1           0.93   \n",
       "2017-01-01 00:00:02    2017-01-01 00:03:50                1           0.50   \n",
       "2017-01-01 00:03:37    2017-01-01 00:12:37                1           1.39   \n",
       "2017-01-01 00:06:01    2017-01-01 00:13:45                1           1.54   \n",
       "2017-01-01 00:07:54    2017-01-01 00:17:34                1           1.86   \n",
       "2017-01-01 00:09:27    2017-01-01 00:14:41                1           0.90   \n",
       "\n",
       "                      PULocationID  DOLocationID  fare_amount  \n",
       "tpep_pickup_datetime                                           \n",
       "2001-01-01 23:39:13            230           163         11.0  \n",
       "2001-01-06 06:10:12              7             7          2.5  \n",
       "2003-01-14 00:17:13            264           264          1.5  \n",
       "2008-12-31 17:48:27            162           264          7.5  \n",
       "2008-12-31 23:34:04            237           140          5.5  \n",
       "2017-01-01 00:00:02             48            48          4.0  \n",
       "2017-01-01 00:03:37             79           249          8.0  \n",
       "2017-01-01 00:06:01            209            13          7.5  \n",
       "2017-01-01 00:07:54            141           233          8.5  \n",
       "2017-01-01 00:09:27            186            68          5.5  "
      ]
     },
     "execution_count": 527,
     "metadata": {},
     "output_type": "execute_result"
    }
   ],
   "source": [
    "# Check for records earlier than 2017\n",
    "data.head(10)"
   ]
  },
  {
   "cell_type": "code",
   "execution_count": 528,
   "metadata": {},
   "outputs": [
    {
     "data": {
      "text/html": [
       "<div>\n",
       "<style scoped>\n",
       "    .dataframe tbody tr th:only-of-type {\n",
       "        vertical-align: middle;\n",
       "    }\n",
       "\n",
       "    .dataframe tbody tr th {\n",
       "        vertical-align: top;\n",
       "    }\n",
       "\n",
       "    .dataframe thead th {\n",
       "        text-align: right;\n",
       "    }\n",
       "</style>\n",
       "<table border=\"1\" class=\"dataframe\">\n",
       "  <thead>\n",
       "    <tr style=\"text-align: right;\">\n",
       "      <th></th>\n",
       "      <th>tpep_dropoff_datetime</th>\n",
       "      <th>passenger_count</th>\n",
       "      <th>trip_distance</th>\n",
       "      <th>PULocationID</th>\n",
       "      <th>DOLocationID</th>\n",
       "      <th>fare_amount</th>\n",
       "    </tr>\n",
       "    <tr>\n",
       "      <th>tpep_pickup_datetime</th>\n",
       "      <th></th>\n",
       "      <th></th>\n",
       "      <th></th>\n",
       "      <th></th>\n",
       "      <th></th>\n",
       "      <th></th>\n",
       "    </tr>\n",
       "  </thead>\n",
       "  <tbody>\n",
       "    <tr>\n",
       "      <th>2017-12-31 23:30:33</th>\n",
       "      <td>2017-12-31 23:33:10</td>\n",
       "      <td>1</td>\n",
       "      <td>0.53</td>\n",
       "      <td>161</td>\n",
       "      <td>161</td>\n",
       "      <td>4.0</td>\n",
       "    </tr>\n",
       "    <tr>\n",
       "      <th>2017-12-31 23:32:43</th>\n",
       "      <td>2017-12-31 23:42:59</td>\n",
       "      <td>2</td>\n",
       "      <td>1.51</td>\n",
       "      <td>87</td>\n",
       "      <td>148</td>\n",
       "      <td>8.5</td>\n",
       "    </tr>\n",
       "    <tr>\n",
       "      <th>2017-12-31 23:35:13</th>\n",
       "      <td>2017-12-31 23:48:19</td>\n",
       "      <td>3</td>\n",
       "      <td>1.77</td>\n",
       "      <td>79</td>\n",
       "      <td>45</td>\n",
       "      <td>9.0</td>\n",
       "    </tr>\n",
       "    <tr>\n",
       "      <th>2017-12-31 23:37:35</th>\n",
       "      <td>2017-12-31 23:50:52</td>\n",
       "      <td>1</td>\n",
       "      <td>1.30</td>\n",
       "      <td>4</td>\n",
       "      <td>79</td>\n",
       "      <td>10.0</td>\n",
       "    </tr>\n",
       "    <tr>\n",
       "      <th>2017-12-31 23:40:18</th>\n",
       "      <td>2017-12-31 23:43:40</td>\n",
       "      <td>1</td>\n",
       "      <td>0.50</td>\n",
       "      <td>166</td>\n",
       "      <td>24</td>\n",
       "      <td>4.5</td>\n",
       "    </tr>\n",
       "    <tr>\n",
       "      <th>2017-12-31 23:42:46</th>\n",
       "      <td>2017-12-31 23:52:25</td>\n",
       "      <td>1</td>\n",
       "      <td>2.13</td>\n",
       "      <td>263</td>\n",
       "      <td>43</td>\n",
       "      <td>9.0</td>\n",
       "    </tr>\n",
       "    <tr>\n",
       "      <th>2017-12-31 23:45:26</th>\n",
       "      <td>2018-01-01 00:01:48</td>\n",
       "      <td>2</td>\n",
       "      <td>3.40</td>\n",
       "      <td>141</td>\n",
       "      <td>234</td>\n",
       "      <td>14.0</td>\n",
       "    </tr>\n",
       "    <tr>\n",
       "      <th>2017-12-31 23:48:11</th>\n",
       "      <td>2018-01-01 00:04:11</td>\n",
       "      <td>1</td>\n",
       "      <td>4.28</td>\n",
       "      <td>48</td>\n",
       "      <td>41</td>\n",
       "      <td>15.0</td>\n",
       "    </tr>\n",
       "    <tr>\n",
       "      <th>2017-12-31 23:51:53</th>\n",
       "      <td>2017-12-31 23:53:31</td>\n",
       "      <td>0</td>\n",
       "      <td>0.60</td>\n",
       "      <td>238</td>\n",
       "      <td>151</td>\n",
       "      <td>4.0</td>\n",
       "    </tr>\n",
       "    <tr>\n",
       "      <th>2017-12-31 23:56:35</th>\n",
       "      <td>2017-12-31 23:58:26</td>\n",
       "      <td>2</td>\n",
       "      <td>0.81</td>\n",
       "      <td>151</td>\n",
       "      <td>238</td>\n",
       "      <td>4.5</td>\n",
       "    </tr>\n",
       "  </tbody>\n",
       "</table>\n",
       "</div>"
      ],
      "text/plain": [
       "                     tpep_dropoff_datetime  passenger_count  trip_distance  \\\n",
       "tpep_pickup_datetime                                                         \n",
       "2017-12-31 23:30:33    2017-12-31 23:33:10                1           0.53   \n",
       "2017-12-31 23:32:43    2017-12-31 23:42:59                2           1.51   \n",
       "2017-12-31 23:35:13    2017-12-31 23:48:19                3           1.77   \n",
       "2017-12-31 23:37:35    2017-12-31 23:50:52                1           1.30   \n",
       "2017-12-31 23:40:18    2017-12-31 23:43:40                1           0.50   \n",
       "2017-12-31 23:42:46    2017-12-31 23:52:25                1           2.13   \n",
       "2017-12-31 23:45:26    2018-01-01 00:01:48                2           3.40   \n",
       "2017-12-31 23:48:11    2018-01-01 00:04:11                1           4.28   \n",
       "2017-12-31 23:51:53    2017-12-31 23:53:31                0           0.60   \n",
       "2017-12-31 23:56:35    2017-12-31 23:58:26                2           0.81   \n",
       "\n",
       "                      PULocationID  DOLocationID  fare_amount  \n",
       "tpep_pickup_datetime                                           \n",
       "2017-12-31 23:30:33            161           161          4.0  \n",
       "2017-12-31 23:32:43             87           148          8.5  \n",
       "2017-12-31 23:35:13             79            45          9.0  \n",
       "2017-12-31 23:37:35              4            79         10.0  \n",
       "2017-12-31 23:40:18            166            24          4.5  \n",
       "2017-12-31 23:42:46            263            43          9.0  \n",
       "2017-12-31 23:45:26            141           234         14.0  \n",
       "2017-12-31 23:48:11             48            41         15.0  \n",
       "2017-12-31 23:51:53            238           151          4.0  \n",
       "2017-12-31 23:56:35            151           238          4.5  "
      ]
     },
     "execution_count": 528,
     "metadata": {},
     "output_type": "execute_result"
    }
   ],
   "source": [
    "# Check for records later than 2017\n",
    "data.tail(10)"
   ]
  },
  {
   "cell_type": "markdown",
   "metadata": {},
   "source": [
    "It looks like there are 5 entries at the beginning of the dataset that need to be removed. Let's fix that below."
   ]
  },
  {
   "cell_type": "code",
   "execution_count": 529,
   "metadata": {},
   "outputs": [],
   "source": [
    "# Remove first 5 entries (not in 2017).\n",
    "data = data[5:]"
   ]
  },
  {
   "cell_type": "markdown",
   "metadata": {},
   "source": [
    "## Dealing With Invalid Trip Durations\n",
    "Next, let's look at records where `pickup time` and `dropoff time` do not make sense relative to each other. Specifically, we need to address two cases:\n",
    "1. Records where `trip_duration <= 0` or very short.\n",
    "2. Records where `trip duration` is unrealistically long.\n",
    "\n",
    "Before we do that though, let's actually calculate the `trip duration` and store it in a new column (as seconds)."
   ]
  },
  {
   "cell_type": "code",
   "execution_count": 530,
   "metadata": {},
   "outputs": [],
   "source": [
    "# Create trip duration column (stored as seconds)\n",
    "data['trip_duration'] = (data.tpep_dropoff_datetime - data.index).transform(lambda x: x.total_seconds())"
   ]
  },
  {
   "cell_type": "markdown",
   "metadata": {},
   "source": [
    "Now that we have `trip duration`, let's look at the `value_counts()` of all rides that lasted less than or equal to 10 seconds."
   ]
  },
  {
   "cell_type": "code",
   "execution_count": 531,
   "metadata": {},
   "outputs": [
    {
     "data": {
      "text/plain": [
       "-2681.0      1\n",
       "-784.0       1\n",
       " 0.0       197\n",
       " 1.0         8\n",
       " 2.0        40\n",
       " 3.0        51\n",
       " 4.0        66\n",
       " 5.0        64\n",
       " 6.0        32\n",
       " 7.0        48\n",
       " 8.0        35\n",
       " 9.0        20\n",
       " 10.0       31\n",
       "Name: trip_duration, dtype: int64"
      ]
     },
     "execution_count": 531,
     "metadata": {},
     "output_type": "execute_result"
    }
   ],
   "source": [
    "# Value counts for all trip durations <= 10 seconds.\n",
    "data[data.trip_duration <= 10].trip_duration.value_counts().sort_index()"
   ]
  },
  {
   "cell_type": "markdown",
   "metadata": {},
   "source": [
    "The first three rows with `trip duration <= 0` are obviously invalid. But even for  trip durations that lasted a few seconds or 10's of seconds... do we really want such records representing our model? Since they don't represent realistic trips (and are most likely outliers), we're better off without them.\n",
    "\n",
    "Before we make any changes, let's look at the other end of the spectrum by converting `trip duration` to hours and grouping by hour to see the distrubtion of trip durations.\n",
    "\n",
    "**Here `0` -> # Rides lasting less than one hour, `1` -> # Rides lasting between one and two hours, etc.**"
   ]
  },
  {
   "cell_type": "code",
   "execution_count": 532,
   "metadata": {},
   "outputs": [
    {
     "data": {
      "text/plain": [
       "-1.0          2\n",
       " 0.0     265712\n",
       " 1.0        956\n",
       " 2.0          9\n",
       " 3.0          3\n",
       " 4.0          2\n",
       " 5.0          2\n",
       " 6.0          1\n",
       " 7.0          3\n",
       " 8.0          1\n",
       " 9.0          2\n",
       " 10.0         3\n",
       " 11.0         1\n",
       " 12.0         1\n",
       " 13.0         4\n",
       " 16.0         2\n",
       " 18.0         2\n",
       " 20.0         1\n",
       " 21.0         3\n",
       " 22.0         9\n",
       " 23.0       408\n",
       "Name: trip_duration, dtype: int64"
      ]
     },
     "execution_count": 532,
     "metadata": {},
     "output_type": "execute_result"
    }
   ],
   "source": [
    "# Value counts for all trip durations (grouped by floor(hour))\n",
    "(data.trip_duration // 3600).value_counts().sort_index()"
   ]
  },
  {
   "cell_type": "markdown",
   "metadata": {},
   "source": [
    "Again, we see many outliers, especially with trips lasting 23+ hours. Ideally, we want to focus on realistic trip durations which our predictions will be based on. So same as before, we're better off without such outliers.\n",
    "\n",
    "**To remove outliers on both ends, I reduced my dataset to trip durations in the following range: `[2 min, 1 hour]`**"
   ]
  },
  {
   "cell_type": "code",
   "execution_count": 533,
   "metadata": {},
   "outputs": [],
   "source": [
    "# Clean/Reduce dataset to include trips between 5 minutes and 1 hour inclusive\n",
    "data = data[(data.trip_duration >= 120) & (data.trip_duration <= 3600)]"
   ]
  },
  {
   "cell_type": "markdown",
   "metadata": {},
   "source": [
    "## Trip Distance Cleaning\n",
    "\n",
    "Next, let's look at the `trip distance` column. Our goal here is twofold:\n",
    "1. To remove records where the `trip distance <= 0` or very short, as these are invalid trip distances which we don't want to track. \n",
    "2. To analyze trips where the `trip distance` is unreasonably high (potential outliers).\n",
    "\n",
    "As we did before, let's first look at the `value counts()` of all `trip durations <= 0.2 miles`. Many of these will be outliers which you will expect."
   ]
  },
  {
   "cell_type": "code",
   "execution_count": 534,
   "metadata": {},
   "outputs": [
    {
     "data": {
      "text/plain": [
       "0.00    163\n",
       "0.01      5\n",
       "0.02      7\n",
       "0.03      7\n",
       "0.04     12\n",
       "0.05      5\n",
       "0.06     11\n",
       "0.07      8\n",
       "0.08      9\n",
       "0.09     12\n",
       "0.10     99\n",
       "0.11     10\n",
       "0.12      5\n",
       "0.13     12\n",
       "0.14     13\n",
       "0.15     10\n",
       "0.16     14\n",
       "0.17     21\n",
       "0.18     15\n",
       "0.19     19\n",
       "0.20    405\n",
       "Name: trip_distance, dtype: int64"
      ]
     },
     "execution_count": 534,
     "metadata": {},
     "output_type": "execute_result"
    }
   ],
   "source": [
    "# Count of trips where distance <= 0.2 miles\n",
    "data[data.trip_distance <= 0.2].trip_distance.value_counts().sort_index()"
   ]
  },
  {
   "cell_type": "markdown",
   "metadata": {},
   "source": [
    "As expected, most of these are outliers, and probably represent invalid data points.\n",
    "\n",
    "**To remove these outliers, I'll place a lower bound of 0.2 miles for all trip durations.**"
   ]
  },
  {
   "cell_type": "code",
   "execution_count": 535,
   "metadata": {},
   "outputs": [],
   "source": [
    "# Place lower limit of 0.5 miles for all trip durations.\n",
    "data = data[data.trip_distance >= 0.2]"
   ]
  },
  {
   "cell_type": "markdown",
   "metadata": {},
   "source": [
    "Let's now look at `trip distances > 50` to see if we have any outliers on the other end."
   ]
  },
  {
   "cell_type": "code",
   "execution_count": 536,
   "metadata": {},
   "outputs": [
    {
     "data": {
      "text/html": [
       "<div>\n",
       "<style scoped>\n",
       "    .dataframe tbody tr th:only-of-type {\n",
       "        vertical-align: middle;\n",
       "    }\n",
       "\n",
       "    .dataframe tbody tr th {\n",
       "        vertical-align: top;\n",
       "    }\n",
       "\n",
       "    .dataframe thead th {\n",
       "        text-align: right;\n",
       "    }\n",
       "</style>\n",
       "<table border=\"1\" class=\"dataframe\">\n",
       "  <thead>\n",
       "    <tr style=\"text-align: right;\">\n",
       "      <th></th>\n",
       "      <th>tpep_dropoff_datetime</th>\n",
       "      <th>passenger_count</th>\n",
       "      <th>trip_distance</th>\n",
       "      <th>PULocationID</th>\n",
       "      <th>DOLocationID</th>\n",
       "      <th>fare_amount</th>\n",
       "      <th>trip_duration</th>\n",
       "    </tr>\n",
       "    <tr>\n",
       "      <th>tpep_pickup_datetime</th>\n",
       "      <th></th>\n",
       "      <th></th>\n",
       "      <th></th>\n",
       "      <th></th>\n",
       "      <th></th>\n",
       "      <th></th>\n",
       "      <th></th>\n",
       "    </tr>\n",
       "  </thead>\n",
       "  <tbody>\n",
       "    <tr>\n",
       "      <th>2017-11-08 17:26:12</th>\n",
       "      <td>2017-11-08 17:44:05</td>\n",
       "      <td>2</td>\n",
       "      <td>702.5</td>\n",
       "      <td>231</td>\n",
       "      <td>107</td>\n",
       "      <td>12.5</td>\n",
       "      <td>1073.0</td>\n",
       "    </tr>\n",
       "  </tbody>\n",
       "</table>\n",
       "</div>"
      ],
      "text/plain": [
       "                     tpep_dropoff_datetime  passenger_count  trip_distance  \\\n",
       "tpep_pickup_datetime                                                         \n",
       "2017-11-08 17:26:12    2017-11-08 17:44:05                2          702.5   \n",
       "\n",
       "                      PULocationID  DOLocationID  fare_amount  trip_duration  \n",
       "tpep_pickup_datetime                                                          \n",
       "2017-11-08 17:26:12            231           107         12.5         1073.0  "
      ]
     },
     "execution_count": 536,
     "metadata": {},
     "output_type": "execute_result"
    }
   ],
   "source": [
    "# Look at trip distances > 50\n",
    "data[data.trip_distance > 50]"
   ]
  },
  {
   "cell_type": "markdown",
   "metadata": {},
   "source": [
    "There is one clear outlier which we need to remove. Let's do that now!"
   ]
  },
  {
   "cell_type": "code",
   "execution_count": 537,
   "metadata": {},
   "outputs": [],
   "source": [
    "# Delete outlier\n",
    "data.drop(pd.Timestamp('2017-11-08 17:26:12'), inplace=True)"
   ]
  },
  {
   "cell_type": "markdown",
   "metadata": {},
   "source": [
    "## Fare Amount Cleaning\n",
    "\n",
    "Again, with `fare amount`, we need to look for outliers/invalid data points.\n",
    "\n",
    "NYC taxi fare amounts start at a minimum of `$2.50`. With a lower bound of 0.2 miles for `distance` and 2 minutes for `trip duration`, the `fare_amount` is guranteed to be over `$2.50`\n",
    "\n",
    "Before we apply this filter, let's check to see if we have any unreasonably high fare amounts. Let's use our good old friend: the box plot!"
   ]
  },
  {
   "cell_type": "code",
   "execution_count": 538,
   "metadata": {},
   "outputs": [
    {
     "data": {
      "text/plain": [
       "<matplotlib.axes._subplots.AxesSubplot at 0x1386e2198>"
      ]
     },
     "execution_count": 538,
     "metadata": {},
     "output_type": "execute_result"
    },
    {
     "data": {
      "image/png": "[encoded data removed]",
      "text/plain": [
       "<Figure size 432x288 with 1 Axes>"
      ]
     },
     "metadata": {
      "needs_background": "light"
     },
     "output_type": "display_data"
    }
   ],
   "source": [
    "data.boxplot('fare_amount', vert=False)"
   ]
  },
  {
   "cell_type": "markdown",
   "metadata": {},
   "source": [
    "How about we inspect the data points with `fare amount > 75`?"
   ]
  },
  {
   "cell_type": "code",
   "execution_count": 539,
   "metadata": {},
   "outputs": [
    {
     "data": {
      "text/html": [
       "<div>\n",
       "<style scoped>\n",
       "    .dataframe tbody tr th:only-of-type {\n",
       "        vertical-align: middle;\n",
       "    }\n",
       "\n",
       "    .dataframe tbody tr th {\n",
       "        vertical-align: top;\n",
       "    }\n",
       "\n",
       "    .dataframe thead th {\n",
       "        text-align: right;\n",
       "    }\n",
       "</style>\n",
       "<table border=\"1\" class=\"dataframe\">\n",
       "  <thead>\n",
       "    <tr style=\"text-align: right;\">\n",
       "      <th></th>\n",
       "      <th>tpep_dropoff_datetime</th>\n",
       "      <th>passenger_count</th>\n",
       "      <th>trip_distance</th>\n",
       "      <th>PULocationID</th>\n",
       "      <th>DOLocationID</th>\n",
       "      <th>fare_amount</th>\n",
       "      <th>trip_duration</th>\n",
       "    </tr>\n",
       "    <tr>\n",
       "      <th>tpep_pickup_datetime</th>\n",
       "      <th></th>\n",
       "      <th></th>\n",
       "      <th></th>\n",
       "      <th></th>\n",
       "      <th></th>\n",
       "      <th></th>\n",
       "      <th></th>\n",
       "    </tr>\n",
       "  </thead>\n",
       "  <tbody>\n",
       "    <tr>\n",
       "      <th>2017-01-15 05:41:13</th>\n",
       "      <td>2017-01-15 06:38:53</td>\n",
       "      <td>1</td>\n",
       "      <td>30.29</td>\n",
       "      <td>132</td>\n",
       "      <td>162</td>\n",
       "      <td>84.0</td>\n",
       "      <td>3460.0</td>\n",
       "    </tr>\n",
       "    <tr>\n",
       "      <th>2017-02-18 00:21:11</th>\n",
       "      <td>2017-02-18 01:20:44</td>\n",
       "      <td>1</td>\n",
       "      <td>27.50</td>\n",
       "      <td>213</td>\n",
       "      <td>212</td>\n",
       "      <td>80.0</td>\n",
       "      <td>3573.0</td>\n",
       "    </tr>\n",
       "    <tr>\n",
       "      <th>2017-04-06 21:12:40</th>\n",
       "      <td>2017-04-06 22:11:39</td>\n",
       "      <td>1</td>\n",
       "      <td>29.80</td>\n",
       "      <td>261</td>\n",
       "      <td>265</td>\n",
       "      <td>82.5</td>\n",
       "      <td>3539.0</td>\n",
       "    </tr>\n",
       "    <tr>\n",
       "      <th>2017-04-20 08:54:32</th>\n",
       "      <td>2017-04-20 09:52:53</td>\n",
       "      <td>2</td>\n",
       "      <td>30.50</td>\n",
       "      <td>100</td>\n",
       "      <td>265</td>\n",
       "      <td>84.0</td>\n",
       "      <td>3501.0</td>\n",
       "    </tr>\n",
       "    <tr>\n",
       "      <th>2017-04-27 04:05:25</th>\n",
       "      <td>2017-04-27 04:52:56</td>\n",
       "      <td>1</td>\n",
       "      <td>28.80</td>\n",
       "      <td>163</td>\n",
       "      <td>222</td>\n",
       "      <td>79.0</td>\n",
       "      <td>2851.0</td>\n",
       "    </tr>\n",
       "    <tr>\n",
       "      <th>2017-04-28 23:50:40</th>\n",
       "      <td>2017-04-29 00:48:44</td>\n",
       "      <td>2</td>\n",
       "      <td>28.14</td>\n",
       "      <td>230</td>\n",
       "      <td>27</td>\n",
       "      <td>78.5</td>\n",
       "      <td>3484.0</td>\n",
       "    </tr>\n",
       "    <tr>\n",
       "      <th>2017-05-07 08:45:42</th>\n",
       "      <td>2017-05-07 09:40:29</td>\n",
       "      <td>1</td>\n",
       "      <td>26.40</td>\n",
       "      <td>230</td>\n",
       "      <td>138</td>\n",
       "      <td>75.5</td>\n",
       "      <td>3287.0</td>\n",
       "    </tr>\n",
       "    <tr>\n",
       "      <th>2017-05-17 04:53:31</th>\n",
       "      <td>2017-05-17 05:47:44</td>\n",
       "      <td>1</td>\n",
       "      <td>36.13</td>\n",
       "      <td>132</td>\n",
       "      <td>190</td>\n",
       "      <td>95.0</td>\n",
       "      <td>3253.0</td>\n",
       "    </tr>\n",
       "    <tr>\n",
       "      <th>2017-05-23 22:47:43</th>\n",
       "      <td>2017-05-23 23:34:18</td>\n",
       "      <td>1</td>\n",
       "      <td>35.50</td>\n",
       "      <td>138</td>\n",
       "      <td>265</td>\n",
       "      <td>93.5</td>\n",
       "      <td>2795.0</td>\n",
       "    </tr>\n",
       "    <tr>\n",
       "      <th>2017-06-03 10:10:01</th>\n",
       "      <td>2017-06-03 11:03:45</td>\n",
       "      <td>1</td>\n",
       "      <td>26.99</td>\n",
       "      <td>50</td>\n",
       "      <td>84</td>\n",
       "      <td>75.5</td>\n",
       "      <td>3224.0</td>\n",
       "    </tr>\n",
       "    <tr>\n",
       "      <th>2017-06-29 20:30:13</th>\n",
       "      <td>2017-06-29 21:25:47</td>\n",
       "      <td>1</td>\n",
       "      <td>27.90</td>\n",
       "      <td>132</td>\n",
       "      <td>40</td>\n",
       "      <td>78.5</td>\n",
       "      <td>3334.0</td>\n",
       "    </tr>\n",
       "    <tr>\n",
       "      <th>2017-08-17 13:27:19</th>\n",
       "      <td>2017-08-17 14:25:32</td>\n",
       "      <td>3</td>\n",
       "      <td>26.00</td>\n",
       "      <td>238</td>\n",
       "      <td>20</td>\n",
       "      <td>75.0</td>\n",
       "      <td>3493.0</td>\n",
       "    </tr>\n",
       "    <tr>\n",
       "      <th>2017-08-21 15:12:09</th>\n",
       "      <td>2017-08-21 15:55:43</td>\n",
       "      <td>2</td>\n",
       "      <td>31.50</td>\n",
       "      <td>132</td>\n",
       "      <td>265</td>\n",
       "      <td>82.5</td>\n",
       "      <td>2614.0</td>\n",
       "    </tr>\n",
       "    <tr>\n",
       "      <th>2017-08-24 00:32:19</th>\n",
       "      <td>2017-08-24 01:31:24</td>\n",
       "      <td>1</td>\n",
       "      <td>34.30</td>\n",
       "      <td>158</td>\n",
       "      <td>201</td>\n",
       "      <td>93.0</td>\n",
       "      <td>3545.0</td>\n",
       "    </tr>\n",
       "    <tr>\n",
       "      <th>2017-08-28 13:20:40</th>\n",
       "      <td>2017-08-28 14:02:43</td>\n",
       "      <td>4</td>\n",
       "      <td>33.30</td>\n",
       "      <td>132</td>\n",
       "      <td>5</td>\n",
       "      <td>85.5</td>\n",
       "      <td>2523.0</td>\n",
       "    </tr>\n",
       "    <tr>\n",
       "      <th>2017-09-07 23:32:54</th>\n",
       "      <td>2017-09-08 00:25:22</td>\n",
       "      <td>1</td>\n",
       "      <td>33.60</td>\n",
       "      <td>88</td>\n",
       "      <td>265</td>\n",
       "      <td>89.5</td>\n",
       "      <td>3148.0</td>\n",
       "    </tr>\n",
       "    <tr>\n",
       "      <th>2017-10-02 03:00:25</th>\n",
       "      <td>2017-10-02 03:37:58</td>\n",
       "      <td>2</td>\n",
       "      <td>30.00</td>\n",
       "      <td>132</td>\n",
       "      <td>156</td>\n",
       "      <td>79.0</td>\n",
       "      <td>2253.0</td>\n",
       "    </tr>\n",
       "    <tr>\n",
       "      <th>2017-10-27 22:57:48</th>\n",
       "      <td>2017-10-27 23:39:30</td>\n",
       "      <td>3</td>\n",
       "      <td>28.15</td>\n",
       "      <td>132</td>\n",
       "      <td>181</td>\n",
       "      <td>75.0</td>\n",
       "      <td>2502.0</td>\n",
       "    </tr>\n",
       "    <tr>\n",
       "      <th>2017-11-05 21:23:17</th>\n",
       "      <td>2017-11-05 22:08:58</td>\n",
       "      <td>1</td>\n",
       "      <td>31.42</td>\n",
       "      <td>132</td>\n",
       "      <td>109</td>\n",
       "      <td>83.0</td>\n",
       "      <td>2741.0</td>\n",
       "    </tr>\n",
       "    <tr>\n",
       "      <th>2017-11-06 07:31:11</th>\n",
       "      <td>2017-11-06 08:31:05</td>\n",
       "      <td>1</td>\n",
       "      <td>29.48</td>\n",
       "      <td>138</td>\n",
       "      <td>265</td>\n",
       "      <td>78.0</td>\n",
       "      <td>3594.0</td>\n",
       "    </tr>\n",
       "    <tr>\n",
       "      <th>2017-12-06 20:01:00</th>\n",
       "      <td>2017-12-06 20:59:22</td>\n",
       "      <td>1</td>\n",
       "      <td>28.30</td>\n",
       "      <td>161</td>\n",
       "      <td>84</td>\n",
       "      <td>82.0</td>\n",
       "      <td>3502.0</td>\n",
       "    </tr>\n",
       "    <tr>\n",
       "      <th>2017-12-21 00:29:00</th>\n",
       "      <td>2017-12-21 01:26:34</td>\n",
       "      <td>1</td>\n",
       "      <td>34.06</td>\n",
       "      <td>113</td>\n",
       "      <td>117</td>\n",
       "      <td>92.0</td>\n",
       "      <td>3454.0</td>\n",
       "    </tr>\n",
       "    <tr>\n",
       "      <th>2017-12-22 00:32:12</th>\n",
       "      <td>2017-12-22 00:38:53</td>\n",
       "      <td>2</td>\n",
       "      <td>28.38</td>\n",
       "      <td>100</td>\n",
       "      <td>204</td>\n",
       "      <td>89.5</td>\n",
       "      <td>401.0</td>\n",
       "    </tr>\n",
       "  </tbody>\n",
       "</table>\n",
       "</div>"
      ],
      "text/plain": [
       "                     tpep_dropoff_datetime  passenger_count  trip_distance  \\\n",
       "tpep_pickup_datetime                                                         \n",
       "2017-01-15 05:41:13    2017-01-15 06:38:53                1          30.29   \n",
       "2017-02-18 00:21:11    2017-02-18 01:20:44                1          27.50   \n",
       "2017-04-06 21:12:40    2017-04-06 22:11:39                1          29.80   \n",
       "2017-04-20 08:54:32    2017-04-20 09:52:53                2          30.50   \n",
       "2017-04-27 04:05:25    2017-04-27 04:52:56                1          28.80   \n",
       "2017-04-28 23:50:40    2017-04-29 00:48:44                2          28.14   \n",
       "2017-05-07 08:45:42    2017-05-07 09:40:29                1          26.40   \n",
       "2017-05-17 04:53:31    2017-05-17 05:47:44                1          36.13   \n",
       "2017-05-23 22:47:43    2017-05-23 23:34:18                1          35.50   \n",
       "2017-06-03 10:10:01    2017-06-03 11:03:45                1          26.99   \n",
       "2017-06-29 20:30:13    2017-06-29 21:25:47                1          27.90   \n",
       "2017-08-17 13:27:19    2017-08-17 14:25:32                3          26.00   \n",
       "2017-08-21 15:12:09    2017-08-21 15:55:43                2          31.50   \n",
       "2017-08-24 00:32:19    2017-08-24 01:31:24                1          34.30   \n",
       "2017-08-28 13:20:40    2017-08-28 14:02:43                4          33.30   \n",
       "2017-09-07 23:32:54    2017-09-08 00:25:22                1          33.60   \n",
       "2017-10-02 03:00:25    2017-10-02 03:37:58                2          30.00   \n",
       "2017-10-27 22:57:48    2017-10-27 23:39:30                3          28.15   \n",
       "2017-11-05 21:23:17    2017-11-05 22:08:58                1          31.42   \n",
       "2017-11-06 07:31:11    2017-11-06 08:31:05                1          29.48   \n",
       "2017-12-06 20:01:00    2017-12-06 20:59:22                1          28.30   \n",
       "2017-12-21 00:29:00    2017-12-21 01:26:34                1          34.06   \n",
       "2017-12-22 00:32:12    2017-12-22 00:38:53                2          28.38   \n",
       "\n",
       "                      PULocationID  DOLocationID  fare_amount  trip_duration  \n",
       "tpep_pickup_datetime                                                          \n",
       "2017-01-15 05:41:13            132           162         84.0         3460.0  \n",
       "2017-02-18 00:21:11            213           212         80.0         3573.0  \n",
       "2017-04-06 21:12:40            261           265         82.5         3539.0  \n",
       "2017-04-20 08:54:32            100           265         84.0         3501.0  \n",
       "2017-04-27 04:05:25            163           222         79.0         2851.0  \n",
       "2017-04-28 23:50:40            230            27         78.5         3484.0  \n",
       "2017-05-07 08:45:42            230           138         75.5         3287.0  \n",
       "2017-05-17 04:53:31            132           190         95.0         3253.0  \n",
       "2017-05-23 22:47:43            138           265         93.5         2795.0  \n",
       "2017-06-03 10:10:01             50            84         75.5         3224.0  \n",
       "2017-06-29 20:30:13            132            40         78.5         3334.0  \n",
       "2017-08-17 13:27:19            238            20         75.0         3493.0  \n",
       "2017-08-21 15:12:09            132           265         82.5         2614.0  \n",
       "2017-08-24 00:32:19            158           201         93.0         3545.0  \n",
       "2017-08-28 13:20:40            132             5         85.5         2523.0  \n",
       "2017-09-07 23:32:54             88           265         89.5         3148.0  \n",
       "2017-10-02 03:00:25            132           156         79.0         2253.0  \n",
       "2017-10-27 22:57:48            132           181         75.0         2502.0  \n",
       "2017-11-05 21:23:17            132           109         83.0         2741.0  \n",
       "2017-11-06 07:31:11            138           265         78.0         3594.0  \n",
       "2017-12-06 20:01:00            161            84         82.0         3502.0  \n",
       "2017-12-21 00:29:00            113           117         92.0         3454.0  \n",
       "2017-12-22 00:32:12            100           204         89.5          401.0  "
      ]
     },
     "execution_count": 539,
     "metadata": {},
     "output_type": "execute_result"
    }
   ],
   "source": [
    "data[data.fare_amount >= 75]"
   ]
  },
  {
   "cell_type": "markdown",
   "metadata": {},
   "source": [
    "All the data points seem fine except the one in the final row. The `trip distance` is ~30 miles and the `trip duration` is ~6.5 minutes which is not feasible! Let's delete that row and place a lower limit of `S2.51` for the `fare amount`."
   ]
  },
  {
   "cell_type": "code",
   "execution_count": 540,
   "metadata": {},
   "outputs": [],
   "source": [
    "# Remove records where fare amount <= $2.50\n",
    "data = data[data.fare_amount > 2.5]\n",
    "\n",
    "# Delete invalid row mentioned above.\n",
    "data.drop(pd.Timestamp('2017-12-22 00:32:12'), inplace=True)"
   ]
  },
  {
   "cell_type": "markdown",
   "metadata": {},
   "source": [
    "## Cleaning Other Columns and Creating Categories\n",
    "\n",
    "Apart from `pickup/dropoff` datetimes, `trip durations`, `trip distances`, and `fare amounts`, all other columns can be treated as categories having discrete values. We will first check/remove any inconsisties, and then convert the data into categories for improved storage and efficieny of operations."
   ]
  },
  {
   "cell_type": "markdown",
   "metadata": {},
   "source": [
    "### Passenger Count\n",
    "\n",
    "From a logical standpoint, `passenger_count` should not be `< 1` or `> 6`. Looking at the data reveals some issues."
   ]
  },
  {
   "cell_type": "code",
   "execution_count": 541,
   "metadata": {},
   "outputs": [
    {
     "data": {
      "text/plain": [
       "1    186228\n",
       "2     37562\n",
       "5     12408\n",
       "3     10877\n",
       "6      7544\n",
       "4      5257\n",
       "0       322\n",
       "Name: passenger_count, dtype: int64"
      ]
     },
     "execution_count": 541,
     "metadata": {},
     "output_type": "execute_result"
    }
   ],
   "source": [
    "# Checking for any invalid passenger counts\n",
    "data.passenger_count.value_counts()"
   ]
  },
  {
   "cell_type": "markdown",
   "metadata": {},
   "source": [
    "We need to remove the records where the `passenger_count = 0` as this is definitely a data error. Then, we'll convert the `passenger_count` column from type `int64` to type `category`."
   ]
  },
  {
   "cell_type": "code",
   "execution_count": 542,
   "metadata": {},
   "outputs": [],
   "source": [
    "# Removing records where passenger count is 0 or 9\n",
    "data = data[(data.passenger_count != 0)]"
   ]
  },
  {
   "cell_type": "code",
   "execution_count": 543,
   "metadata": {},
   "outputs": [],
   "source": [
    "# Converting passenger_count from type int64 to category\n",
    "data.passenger_count = data.passenger_count.astype('category')"
   ]
  },
  {
   "cell_type": "markdown",
   "metadata": {},
   "source": [
    "### PULocation ID and DOLocation ID\n",
    "\n",
    "Both of these fields were perfect, so I saved you the grunt, and converted them to categories."
   ]
  },
  {
   "cell_type": "code",
   "execution_count": 544,
   "metadata": {},
   "outputs": [],
   "source": [
    "# Converting extra charge from type float64 to category\n",
    "data.PULocationID = data.PULocationID.astype('category')\n",
    "data.DOLocationID = data.DOLocationID.astype('category')"
   ]
  },
  {
   "cell_type": "markdown",
   "metadata": {},
   "source": [
    "## Adding Extra Features\n",
    "\n",
    "As it stands, we've done a fair amount of cleaning. Now we still need to compare certain numerical fields agains each other...\n",
    "\n",
    "But before we do that, let's add a few extra features (that will help us later on):\n",
    "1. `Speed`: Distance / Duration\n",
    "2. `Weekday`: {Mon, Tue, Wed, Thu, Fri, Sat, Sun}\n",
    "3. `Hour of Day`: {0, ..., 23}"
   ]
  },
  {
   "cell_type": "markdown",
   "metadata": {},
   "source": [
    "### Average Speed\n",
    "To calculate `avg_speed` we need to perform: `distance / duration`.\n",
    "\n",
    "This will give us miles per second. To get mph, we can multiply by 3600 and then round off."
   ]
  },
  {
   "cell_type": "code",
   "execution_count": 545,
   "metadata": {},
   "outputs": [],
   "source": [
    "# Calculating avg speed (mph).\n",
    "data['avg_speed'] = round((3600 * data.trip_distance) / data.trip_duration, 2)"
   ]
  },
  {
   "cell_type": "markdown",
   "metadata": {},
   "source": [
    "### Day of Week\n",
    "Next, we want to create a column representing the `day_of_week`. This will be done in two steps:\n",
    "1. Create `day_dict`\n",
    "2. Get weekday from each date (0 - 6), map it to day name (using `day_dict`), and store the column as type `category`"
   ]
  },
  {
   "cell_type": "code",
   "execution_count": 546,
   "metadata": {},
   "outputs": [],
   "source": [
    "# Create day_dict to use for mapping\n",
    "day_dict = {0:'Mon', 1:'Tus', 2:'Wed', 3:'Thu', 4:'Fri', 5:'Sat', 6:'Sun'}"
   ]
  },
  {
   "cell_type": "code",
   "execution_count": 547,
   "metadata": {},
   "outputs": [],
   "source": [
    "# Get weekday of date, map to day (using day_dict), and store column as category.\n",
    "data['day_of_week'] = data.index.weekday.map(day_dict).astype('category')"
   ]
  },
  {
   "cell_type": "markdown",
   "metadata": {},
   "source": [
    "### Hour of Day\n",
    "Finally, we want to get the `hour` of the day and store it as type `category` in a new column `hour_of_day`."
   ]
  },
  {
   "cell_type": "code",
   "execution_count": 548,
   "metadata": {},
   "outputs": [],
   "source": [
    "data['hour_of_day'] = data.index.hour.astype('category')"
   ]
  },
  {
   "cell_type": "markdown",
   "metadata": {},
   "source": [
    "## Cleaning Disproportionate Data\n",
    "\n",
    "We've analyzed many of the columns on an individual basis. Now it's time to compare columns against each other to make sure the data makes sense.\n",
    "\n",
    "We have already compared `pickup` and `dropoff` datetimes, filtering journeys with unrealistically long or short durations. We now want to compare specific variables against each other to see if there are any outliers. Namely, we want to look at:\n",
    " - Distance vs Trip Duration\n",
    " - Distance vs Fare Amount\n",
    " - Fare Amount vs Trip Duration\n",
    "\n",
    "Let's begin by plotting 3 scatter plots of the data above."
   ]
  },
  {
   "cell_type": "markdown",
   "metadata": {},
   "source": [
    " ### Distance vs Trip Duration"
   ]
  },
  {
   "cell_type": "code",
   "execution_count": 549,
   "metadata": {},
   "outputs": [
    {
     "data": {
      "text/plain": [
       "Text(14,300,'Possible Outlier')"
      ]
     },
     "execution_count": 549,
     "metadata": {},
     "output_type": "execute_result"
    },
    {
     "data": {
      "image/png": "[encoded data removed]",
      "text/plain": [
       "<Figure size 432x288 with 1 Axes>"
      ]
     },
     "metadata": {
      "needs_background": "light"
     },
     "output_type": "display_data"
    }
   ],
   "source": [
    "data.plot(kind='scatter', x='trip_distance', y='trip_duration')\n",
    "plt.annotate(s='Possible Outlier', xy=(8.5, 350), xytext=(14, 300), arrowprops={'color': 'red'}, size=10)"
   ]
  },
  {
   "cell_type": "markdown",
   "metadata": {},
   "source": [
    "### Distance vs Fare Amount"
   ]
  },
  {
   "cell_type": "code",
   "execution_count": 550,
   "metadata": {},
   "outputs": [
    {
     "data": {
      "text/plain": [
       "Text(11,4,'Outliers')"
      ]
     },
     "execution_count": 550,
     "metadata": {},
     "output_type": "execute_result"
    },
    {
     "data": {
      "image/png": "[encoded data removed]",
      "text/plain": [
       "<Figure size 432x288 with 1 Axes>"
      ]
     },
     "metadata": {
      "needs_background": "light"
     },
     "output_type": "display_data"
    }
   ],
   "source": [
    "data.plot(kind='scatter', x='trip_distance', y='fare_amount')\n",
    "plt.annotate(s='Outliers', xy=(6.0, 5), xytext=(11, 4.0), arrowprops={'color': 'red'}, size=10)"
   ]
  },
  {
   "cell_type": "markdown",
   "metadata": {},
   "source": [
    "### Fare Amount vs Trip Duration"
   ]
  },
  {
   "cell_type": "code",
   "execution_count": 551,
   "metadata": {},
   "outputs": [
    {
     "data": {
      "text/plain": [
       "Text(55,50,'Outlier')"
      ]
     },
     "execution_count": 551,
     "metadata": {},
     "output_type": "execute_result"
    },
    {
     "data": {
      "image/png": "[encoded data removed]",
      "text/plain": [
       "<Figure size 432x288 with 1 Axes>"
      ]
     },
     "metadata": {
      "needs_background": "light"
     },
     "output_type": "display_data"
    }
   ],
   "source": [
    "data.plot(kind='scatter', x='fare_amount', y='trip_duration')\n",
    "plt.annotate(s='Outlier', xy=(43, 350), xytext=(55, 300), arrowprops={'color': 'red'}, size=10)\n",
    "plt.annotate(s='Outliers', xy=(9, 3300), xytext=(15, 3600), arrowprops={'color': 'red'}, size=10)\n",
    "plt.annotate(s='Outlier', xy=(19, 100), xytext=(55, 50), arrowprops={'color': 'red'}, size=10)"
   ]
  },
  {
   "cell_type": "markdown",
   "metadata": {},
   "source": [
    "Unsurprisingly, the data doesn't look so bad. A few anomalies were noted above.\n",
    "\n",
    "To deal with possible anomalies, I placed further limits on my data (after inspection of course):\n",
    "1. `1 mph <= avg_speed <= 70 mph`. This is to filter out any obscurd data, while allowing space for very slow/fast trips.\n",
    "2. `fare_amount >= (0.75 * distance) + $2.50`. Starting price is `$2.50` (min) and there is no way a mile will cost less than a dollar, but again, I reduced this limit to `0.75` to give some space for potentially extreme (yet valid) datapoints.\n",
    "\n",
    "I also manually inspected and removed some additional data points."
   ]
  },
  {
   "cell_type": "code",
   "execution_count": 552,
   "metadata": {},
   "outputs": [],
   "source": [
    "# Placing limit on avg_speed [1mph, 70mph]\n",
    "data = data[(data.avg_speed <= 70) & (data.avg_speed >= 1)]"
   ]
  },
  {
   "cell_type": "code",
   "execution_count": 553,
   "metadata": {},
   "outputs": [],
   "source": [
    "# Placing limit on fare amount: >= (0.75 * distance) + 2.50\n",
    "data = data[(data.fare_amount >= (0.75*data.trip_distance + 2.5))]"
   ]
  },
  {
   "cell_type": "code",
   "execution_count": 554,
   "metadata": {},
   "outputs": [],
   "source": [
    "# Deleting a few anomalies\n",
    "to_del = ['2017-01-09 12:20:48', '2017-02-08 08:49:10', '2017-03-03 08:29:53', '2017-05-07 20:33:02',\n",
    " '2017-06-12 17:38:48', '2017-11-01 07:27:06'] #'2017-09-20 12:44:01'\n",
    "data.drop([pd.Timestamp(x) for x in to_del], inplace=True)"
   ]
  },
  {
   "cell_type": "markdown",
   "metadata": {},
   "source": [
    "Here is what the 3 plots like after the changes from above."
   ]
  },
  {
   "cell_type": "markdown",
   "metadata": {},
   "source": [
    "### Distance vs Trip Duration"
   ]
  },
  {
   "cell_type": "code",
   "execution_count": 555,
   "metadata": {},
   "outputs": [
    {
     "data": {
      "text/plain": [
       "<matplotlib.axes._subplots.AxesSubplot at 0x137b7b198>"
      ]
     },
     "execution_count": 555,
     "metadata": {},
     "output_type": "execute_result"
    },
    {
     "data": {
      "image/png": "[encoded data removed]",
      "text/plain": [
       "<Figure size 432x288 with 1 Axes>"
      ]
     },
     "metadata": {
      "needs_background": "light"
     },
     "output_type": "display_data"
    }
   ],
   "source": [
    "data.plot(kind='scatter', x='trip_distance', y='trip_duration')"
   ]
  },
  {
   "cell_type": "markdown",
   "metadata": {},
   "source": [
    "### Distance vs Fare Amount"
   ]
  },
  {
   "cell_type": "code",
   "execution_count": 556,
   "metadata": {},
   "outputs": [
    {
     "data": {
      "text/plain": [
       "<matplotlib.axes._subplots.AxesSubplot at 0x157a219b0>"
      ]
     },
     "execution_count": 556,
     "metadata": {},
     "output_type": "execute_result"
    },
    {
     "data": {
      "image/png": "[encoded data removed]",
      "text/plain": [
       "<Figure size 432x288 with 1 Axes>"
      ]
     },
     "metadata": {
      "needs_background": "light"
     },
     "output_type": "display_data"
    }
   ],
   "source": [
    "data.plot(kind='scatter', x='trip_distance', y='fare_amount')"
   ]
  },
  {
   "cell_type": "markdown",
   "metadata": {},
   "source": [
    "### Fare Amount vs Trip Duration"
   ]
  },
  {
   "cell_type": "code",
   "execution_count": 557,
   "metadata": {},
   "outputs": [
    {
     "data": {
      "text/plain": [
       "<matplotlib.axes._subplots.AxesSubplot at 0x12d9856d8>"
      ]
     },
     "execution_count": 557,
     "metadata": {},
     "output_type": "execute_result"
    },
    {
     "data": {
      "image/png": "[encoded data removed]",
      "text/plain": [
       "<Figure size 432x288 with 1 Axes>"
      ]
     },
     "metadata": {
      "needs_background": "light"
     },
     "output_type": "display_data"
    }
   ],
   "source": [
    "data.plot(kind='scatter', x='fare_amount', y='trip_duration')"
   ]
  },
  {
   "cell_type": "markdown",
   "metadata": {},
   "source": [
    "The  data is not 'perfect' but it looks much cleaner. We are now ready to dive into some Exploratory Data Analysis which I will do in the next Jupyter Notebook.\n",
    "\n",
    "Let's take a final look at our data numrically... for now, it looks good :)"
   ]
  },
  {
   "cell_type": "code",
   "execution_count": 559,
   "metadata": {},
   "outputs": [
    {
     "data": {
      "text/html": [
       "<div>\n",
       "<style scoped>\n",
       "    .dataframe tbody tr th:only-of-type {\n",
       "        vertical-align: middle;\n",
       "    }\n",
       "\n",
       "    .dataframe tbody tr th {\n",
       "        vertical-align: top;\n",
       "    }\n",
       "\n",
       "    .dataframe thead th {\n",
       "        text-align: right;\n",
       "    }\n",
       "</style>\n",
       "<table border=\"1\" class=\"dataframe\">\n",
       "  <thead>\n",
       "    <tr style=\"text-align: right;\">\n",
       "      <th></th>\n",
       "      <th>trip_distance</th>\n",
       "      <th>fare_amount</th>\n",
       "      <th>trip_duration</th>\n",
       "      <th>avg_speed</th>\n",
       "    </tr>\n",
       "  </thead>\n",
       "  <tbody>\n",
       "    <tr>\n",
       "      <th>count</th>\n",
       "      <td>259843.000000</td>\n",
       "      <td>259843.000000</td>\n",
       "      <td>259843.000000</td>\n",
       "      <td>259843.000000</td>\n",
       "    </tr>\n",
       "    <tr>\n",
       "      <th>mean</th>\n",
       "      <td>2.560418</td>\n",
       "      <td>11.802406</td>\n",
       "      <td>813.497339</td>\n",
       "      <td>10.918802</td>\n",
       "    </tr>\n",
       "    <tr>\n",
       "      <th>std</th>\n",
       "      <td>2.707586</td>\n",
       "      <td>7.973287</td>\n",
       "      <td>560.936722</td>\n",
       "      <td>5.473864</td>\n",
       "    </tr>\n",
       "    <tr>\n",
       "      <th>min</th>\n",
       "      <td>0.200000</td>\n",
       "      <td>3.000000</td>\n",
       "      <td>120.000000</td>\n",
       "      <td>1.010000</td>\n",
       "    </tr>\n",
       "    <tr>\n",
       "      <th>25%</th>\n",
       "      <td>1.000000</td>\n",
       "      <td>6.500000</td>\n",
       "      <td>408.000000</td>\n",
       "      <td>7.260000</td>\n",
       "    </tr>\n",
       "    <tr>\n",
       "      <th>50%</th>\n",
       "      <td>1.610000</td>\n",
       "      <td>9.500000</td>\n",
       "      <td>664.000000</td>\n",
       "      <td>9.770000</td>\n",
       "    </tr>\n",
       "    <tr>\n",
       "      <th>75%</th>\n",
       "      <td>2.900000</td>\n",
       "      <td>14.000000</td>\n",
       "      <td>1060.000000</td>\n",
       "      <td>13.140000</td>\n",
       "    </tr>\n",
       "    <tr>\n",
       "      <th>max</th>\n",
       "      <td>36.130000</td>\n",
       "      <td>95.000000</td>\n",
       "      <td>3600.000000</td>\n",
       "      <td>52.930000</td>\n",
       "    </tr>\n",
       "  </tbody>\n",
       "</table>\n",
       "</div>"
      ],
      "text/plain": [
       "       trip_distance    fare_amount  trip_duration      avg_speed\n",
       "count  259843.000000  259843.000000  259843.000000  259843.000000\n",
       "mean        2.560418      11.802406     813.497339      10.918802\n",
       "std         2.707586       7.973287     560.936722       5.473864\n",
       "min         0.200000       3.000000     120.000000       1.010000\n",
       "25%         1.000000       6.500000     408.000000       7.260000\n",
       "50%         1.610000       9.500000     664.000000       9.770000\n",
       "75%         2.900000      14.000000    1060.000000      13.140000\n",
       "max        36.130000      95.000000    3600.000000      52.930000"
      ]
     },
     "execution_count": 559,
     "metadata": {},
     "output_type": "execute_result"
    }
   ],
   "source": [
    "data.describe()"
   ]
  }
 ],
 "metadata": {
  "kernelspec": {
   "display_name": "Python 3",
   "language": "python",
   "name": "python3"
  },
  "language_info": {
   "codemirror_mode": {
    "name": "ipython",
    "version": 3
   },
   "file_extension": ".py",
   "mimetype": "text/x-python",
   "name": "python",
   "nbconvert_exporter": "python",
   "pygments_lexer": "ipython3",
   "version": "3.7.0"
  }
 },
 "nbformat": 4,
 "nbformat_minor": 2
}
