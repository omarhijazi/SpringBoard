{
 "cells": [
  {
   "cell_type": "markdown",
   "metadata": {},
   "source": [
    "## Overview\n",
    "\n",
    "The goal of this project is to predict the fare of an NYC taxi ride given some details about the trip. For this project, I used the 2017 data from the NYC Taxi Commission for both training and testing. Here is a link to the dataset: http://www.nyc.gov/html/tlc/html/about/trip_record_data.shtml"
   ]
  },
  {
   "cell_type": "markdown",
   "metadata": {},
   "source": [
    "## Fetch Data\n",
    "\n",
    "Let's start by importing a few packages and reading our data."
   ]
  },
  {
   "cell_type": "code",
   "execution_count": 3,
   "metadata": {},
   "outputs": [],
   "source": [
    "# Import necessary packages\n",
    "import pandas as pd\n",
    "import matplotlib.pyplot as plt\n",
    "from datetime import datetime, timedelta\n",
    "import numpy as np\n",
    "import seaborn as sns\n",
    "\n",
    "# Read data\n",
    "data = pd.read_csv('data/tripdata_2017.csv', parse_dates=[0, 1], index_col=0)\n",
    "\n",
    "# Set styling to Seaborn's default\n",
    "sns.set()"
   ]
  },
  {
   "cell_type": "markdown",
   "metadata": {},
   "source": [
    "## Inspect Numerically\n",
    "What does our data look like? Any missing values? Let's take a quick look."
   ]
  },
  {
   "cell_type": "code",
   "execution_count": 4,
   "metadata": {},
   "outputs": [
    {
     "name": "stdout",
     "output_type": "stream",
     "text": [
      "<class 'pandas.core.frame.DataFrame'>\n",
      "DatetimeIndex: 267132 entries, 2001-01-01 23:39:13 to 2017-12-31 23:56:35\n",
      "Data columns (total 6 columns):\n",
      "tpep_dropoff_datetime    267132 non-null datetime64[ns]\n",
      "passenger_count          267132 non-null int64\n",
      "trip_distance            267132 non-null float64\n",
      "PULocationID             267132 non-null int64\n",
      "DOLocationID             267132 non-null int64\n",
      "fare_amount              267132 non-null float64\n",
      "dtypes: datetime64[ns](1), float64(2), int64(3)\n",
      "memory usage: 14.3 MB\n"
     ]
    }
   ],
   "source": [
    "# Inspect data\n",
    "data.info()"
   ]
  },
  {
   "cell_type": "code",
   "execution_count": 5,
   "metadata": {},
   "outputs": [
    {
     "data": {
      "text/html": [
       "<div>\n",
       "<style scoped>\n",
       "    .dataframe tbody tr th:only-of-type {\n",
       "        vertical-align: middle;\n",
       "    }\n",
       "\n",
       "    .dataframe tbody tr th {\n",
       "        vertical-align: top;\n",
       "    }\n",
       "\n",
       "    .dataframe thead th {\n",
       "        text-align: right;\n",
       "    }\n",
       "</style>\n",
       "<table border=\"1\" class=\"dataframe\">\n",
       "  <thead>\n",
       "    <tr style=\"text-align: right;\">\n",
       "      <th></th>\n",
       "      <th>passenger_count</th>\n",
       "      <th>trip_distance</th>\n",
       "      <th>PULocationID</th>\n",
       "      <th>DOLocationID</th>\n",
       "      <th>fare_amount</th>\n",
       "    </tr>\n",
       "  </thead>\n",
       "  <tbody>\n",
       "    <tr>\n",
       "      <th>count</th>\n",
       "      <td>267132.000000</td>\n",
       "      <td>267132.000000</td>\n",
       "      <td>267132.000000</td>\n",
       "      <td>267132.000000</td>\n",
       "      <td>267132.000000</td>\n",
       "    </tr>\n",
       "    <tr>\n",
       "      <th>mean</th>\n",
       "      <td>1.621397</td>\n",
       "      <td>2.555020</td>\n",
       "      <td>163.144655</td>\n",
       "      <td>160.931641</td>\n",
       "      <td>11.774756</td>\n",
       "    </tr>\n",
       "    <tr>\n",
       "      <th>std</th>\n",
       "      <td>1.261890</td>\n",
       "      <td>3.100759</td>\n",
       "      <td>66.819716</td>\n",
       "      <td>70.387406</td>\n",
       "      <td>8.364122</td>\n",
       "    </tr>\n",
       "    <tr>\n",
       "      <th>min</th>\n",
       "      <td>0.000000</td>\n",
       "      <td>0.000000</td>\n",
       "      <td>1.000000</td>\n",
       "      <td>1.000000</td>\n",
       "      <td>-11.500000</td>\n",
       "    </tr>\n",
       "    <tr>\n",
       "      <th>25%</th>\n",
       "      <td>1.000000</td>\n",
       "      <td>0.970000</td>\n",
       "      <td>114.000000</td>\n",
       "      <td>107.000000</td>\n",
       "      <td>6.500000</td>\n",
       "    </tr>\n",
       "    <tr>\n",
       "      <th>50%</th>\n",
       "      <td>1.000000</td>\n",
       "      <td>1.600000</td>\n",
       "      <td>162.000000</td>\n",
       "      <td>162.000000</td>\n",
       "      <td>9.000000</td>\n",
       "    </tr>\n",
       "    <tr>\n",
       "      <th>75%</th>\n",
       "      <td>2.000000</td>\n",
       "      <td>2.890000</td>\n",
       "      <td>233.000000</td>\n",
       "      <td>233.000000</td>\n",
       "      <td>14.000000</td>\n",
       "    </tr>\n",
       "    <tr>\n",
       "      <th>max</th>\n",
       "      <td>6.000000</td>\n",
       "      <td>702.500000</td>\n",
       "      <td>265.000000</td>\n",
       "      <td>265.000000</td>\n",
       "      <td>174.000000</td>\n",
       "    </tr>\n",
       "  </tbody>\n",
       "</table>\n",
       "</div>"
      ],
      "text/plain": [
       "       passenger_count  trip_distance   PULocationID   DOLocationID  \\\n",
       "count    267132.000000  267132.000000  267132.000000  267132.000000   \n",
       "mean          1.621397       2.555020     163.144655     160.931641   \n",
       "std           1.261890       3.100759      66.819716      70.387406   \n",
       "min           0.000000       0.000000       1.000000       1.000000   \n",
       "25%           1.000000       0.970000     114.000000     107.000000   \n",
       "50%           1.000000       1.600000     162.000000     162.000000   \n",
       "75%           2.000000       2.890000     233.000000     233.000000   \n",
       "max           6.000000     702.500000     265.000000     265.000000   \n",
       "\n",
       "         fare_amount  \n",
       "count  267132.000000  \n",
       "mean       11.774756  \n",
       "std         8.364122  \n",
       "min       -11.500000  \n",
       "25%         6.500000  \n",
       "50%         9.000000  \n",
       "75%        14.000000  \n",
       "max       174.000000  "
      ]
     },
     "execution_count": 5,
     "metadata": {},
     "output_type": "execute_result"
    }
   ],
   "source": [
    "# Inspect data\n",
    "data.describe()"
   ]
  },
  {
   "cell_type": "markdown",
   "metadata": {},
   "source": [
    "No apparent missing values, but there seems to be some invalid data points/outliers we have to deal with.\n",
    "\n",
    "## Inspect Visually \n",
    "\n",
    "Before we make any changes, let's look at the distribution of all numeric values."
   ]
  },
  {
   "cell_type": "code",
   "execution_count": 6,
   "metadata": {},
   "outputs": [
    {
     "data": {
      "image/png": "[encoded data removed]",
      "text/plain": [
       "<Figure size 1440x1080 with 6 Axes>"
      ]
     },
     "metadata": {
      "needs_background": "light"
     },
     "output_type": "display_data"
    }
   ],
   "source": [
    "# Visualize distribution of numeric variables\n",
    "data.hist(figsize=(20, 15))\n",
    "plt.show()"
   ]
  },
  {
   "cell_type": "markdown",
   "metadata": {},
   "source": [
    "## Initial Insights\n",
    "1. Drop off Location and Pick up location won't be used in this prediction and will be removed from the dataset.\n",
    "2. Fare amounts look reasonable. There are a few fare amounts which we have to inspect, but nothing outrageous. There are clearly some negative fares which we have to fix though.\n",
    "3. Passenger counts range from 0 to 6. A passenger count of 0 seems unreasonable. The NYC Taxi Commission reported that passenger count does not influence fare amount, so this column will be dropped anyhow.\n",
    "4. For trip distances, there is at least one outlier which we'll have to remove. We'll have to inspect shorter distances too.\n",
    "5. We need to add a column for trip duration as that is obviously critical.\n",
    "\n",
    "## Initial Cleaning\n",
    "### Pickup / Droppoff Location IDs / Passenger Count\n",
    "Let's begin by dropping the **Pickup and Dropoff Location IDs**, as well as the **Passenger Counts**, as we won't need them for this prediction."
   ]
  },
  {
   "cell_type": "code",
   "execution_count": 7,
   "metadata": {},
   "outputs": [],
   "source": [
    "# Drop unnecessary columns\n",
    "data.drop(['PULocationID', 'DOLocationID', 'passenger_count'], inplace=True, axis=1)"
   ]
  },
  {
   "cell_type": "markdown",
   "metadata": {},
   "source": [
    "### Trip Distances\n",
    "For this project, we want to work with realistic trip distances. While it's perfectly fine to have a trip distance of 0.02 miles or 200 miles, these do not represent average trip lengths. Furthermore, predicting a fare amount for a trip lasting 0.02 miles is useless anyway. Thus, I have chosen logical thresholds here:\n",
    "\n",
    "$$min\\ distance = 0.2\\ miles$$\n",
    "$$max\\ distance = 60\\ miles$$"
   ]
  },
  {
   "cell_type": "code",
   "execution_count": 8,
   "metadata": {},
   "outputs": [
    {
     "name": "stdout",
     "output_type": "stream",
     "text": [
      "Dataset size before cleaning trip distances:  267132\n",
      "Dataset size after:  265082\n"
     ]
    }
   ],
   "source": [
    "# Remove trips < 0.2 miles or > 60 miles\n",
    "print('Dataset size before cleaning trip distances: ', len(data))\n",
    "data = data[(data.trip_distance >= 0.2) & (data.trip_distance <= 60)]\n",
    "print('Dataset size after: ', len(data))"
   ]
  },
  {
   "cell_type": "markdown",
   "metadata": {},
   "source": [
    "Let's visualize the distribution of our data quickly."
   ]
  },
  {
   "cell_type": "code",
   "execution_count": 9,
   "metadata": {},
   "outputs": [
    {
     "data": {
      "image/png": "[encoded data removed]",
      "text/plain": [
       "<Figure size 432x288 with 1 Axes>"
      ]
     },
     "metadata": {
      "needs_background": "light"
     },
     "output_type": "display_data"
    }
   ],
   "source": [
    "# PDF of trip distances\n",
    "data.trip_distance.hist(bins=50)\n",
    "plt.show()"
   ]
  },
  {
   "cell_type": "code",
   "execution_count": 10,
   "metadata": {},
   "outputs": [
    {
     "data": {
      "image/png": "[encoded data removed]",
      "text/plain": [
       "<Figure size 432x288 with 1 Axes>"
      ]
     },
     "metadata": {
      "needs_background": "light"
     },
     "output_type": "display_data"
    }
   ],
   "source": [
    "# Boxplot of trip distances\n",
    "plt.boxplot(data.trip_distance, vert=False)\n",
    "plt.show()"
   ]
  },
  {
   "cell_type": "markdown",
   "metadata": {},
   "source": [
    "Our data is skewed to the right, but that's ok since it's perfectly fine to have a trip duration of 30 miles or 50 miles. We want our model to work for such trips too! We can see that most of our data is in the 0 - 10 mile range though."
   ]
  },
  {
   "cell_type": "markdown",
   "metadata": {},
   "source": [
    "### Trip Durations\n",
    "\n",
    "Our initial data inlcudes start and end times/dates, but it doesn't include a field for trip duration.\n",
    "\n",
    "Let's start by creating this field:"
   ]
  },
  {
   "cell_type": "code",
   "execution_count": 11,
   "metadata": {},
   "outputs": [],
   "source": [
    "# Create new field: trip duration (stored as seconds)\n",
    "data['trip_duration'] = (data.tpep_dropoff_datetime - data.index) \\\n",
    "                            .transform(lambda x: x.total_seconds())"
   ]
  },
  {
   "cell_type": "markdown",
   "metadata": {},
   "source": [
    "Again, we want to think logically here. Does it make sense to predict the fare of a journey that lasted 10 seconds? Probably not. We want to be realistic while allowing for some extreme, yet plausible cases.\n",
    "\n",
    "Here are the thresholds I've chosen:\n",
    "$$min\\ duration = 2\\ minutes$$\n",
    "$$max\\ duration = 2\\ hours$$"
   ]
  },
  {
   "cell_type": "code",
   "execution_count": 12,
   "metadata": {},
   "outputs": [
    {
     "name": "stdout",
     "output_type": "stream",
     "text": [
      "Dataset size before cleaning trip durations:  265082\n",
      "Dataset size after:  261208\n"
     ]
    }
   ],
   "source": [
    "# Remove trips < 120 seconds or > 7200 seconds\n",
    "print('Dataset size before cleaning trip durations: ', len(data))\n",
    "data = data[(data.trip_duration >= 120) & (data.trip_duration <= 7200)]\n",
    "print('Dataset size after: ', len(data))"
   ]
  },
  {
   "cell_type": "markdown",
   "metadata": {},
   "source": [
    "Again, let's visualize our data."
   ]
  },
  {
   "cell_type": "code",
   "execution_count": 13,
   "metadata": {},
   "outputs": [
    {
     "data": {
      "image/png": "[encoded data removed]",
      "text/plain": [
       "<Figure size 432x288 with 1 Axes>"
      ]
     },
     "metadata": {
      "needs_background": "light"
     },
     "output_type": "display_data"
    }
   ],
   "source": [
    "# Plot distribution of trip duration.\n",
    "data.trip_duration.hist(bins=50)\n",
    "plt.show()"
   ]
  },
  {
   "cell_type": "code",
   "execution_count": 14,
   "metadata": {},
   "outputs": [
    {
     "data": {
      "image/png": "[encoded data removed]",
      "text/plain": [
       "<Figure size 432x288 with 1 Axes>"
      ]
     },
     "metadata": {
      "needs_background": "light"
     },
     "output_type": "display_data"
    }
   ],
   "source": [
    "# Boxplot of trip distances\n",
    "plt.boxplot(data.trip_duration, vert=False)\n",
    "plt.show()"
   ]
  },
  {
   "cell_type": "markdown",
   "metadata": {},
   "source": [
    "Same as before, our data is skewed to the right, but that is perfectly fine.\n",
    "### Fare Amount \n",
    "We saw previously that we had some negative fare amounts. There were also some potential outliers that we had to inspect.\n",
    "\n",
    "Let's begin by looking at a boxplot of fare amounts:"
   ]
  },
  {
   "cell_type": "code",
   "execution_count": 15,
   "metadata": {},
   "outputs": [
    {
     "data": {
      "image/png": "[encoded data removed]",
      "text/plain": [
       "<Figure size 432x288 with 1 Axes>"
      ]
     },
     "metadata": {
      "needs_background": "light"
     },
     "output_type": "display_data"
    }
   ],
   "source": [
    "# Boxplot of fare amounts\n",
    "plt.boxplot(data.fare_amount, vert=False)\n",
    "plt.show()"
   ]
  },
  {
   "cell_type": "markdown",
   "metadata": {},
   "source": [
    "To begin with, let's inspect the outlier on the right:"
   ]
  },
  {
   "cell_type": "code",
   "execution_count": 16,
   "metadata": {},
   "outputs": [
    {
     "data": {
      "text/html": [
       "<div>\n",
       "<style scoped>\n",
       "    .dataframe tbody tr th:only-of-type {\n",
       "        vertical-align: middle;\n",
       "    }\n",
       "\n",
       "    .dataframe tbody tr th {\n",
       "        vertical-align: top;\n",
       "    }\n",
       "\n",
       "    .dataframe thead th {\n",
       "        text-align: right;\n",
       "    }\n",
       "</style>\n",
       "<table border=\"1\" class=\"dataframe\">\n",
       "  <thead>\n",
       "    <tr style=\"text-align: right;\">\n",
       "      <th></th>\n",
       "      <th>tpep_dropoff_datetime</th>\n",
       "      <th>trip_distance</th>\n",
       "      <th>fare_amount</th>\n",
       "      <th>trip_duration</th>\n",
       "    </tr>\n",
       "    <tr>\n",
       "      <th>tpep_pickup_datetime</th>\n",
       "      <th></th>\n",
       "      <th></th>\n",
       "      <th></th>\n",
       "      <th></th>\n",
       "    </tr>\n",
       "  </thead>\n",
       "  <tbody>\n",
       "    <tr>\n",
       "      <th>2017-10-16 19:51:30</th>\n",
       "      <td>2017-10-16 21:42:59</td>\n",
       "      <td>48.74</td>\n",
       "      <td>144.5</td>\n",
       "      <td>6689.0</td>\n",
       "    </tr>\n",
       "  </tbody>\n",
       "</table>\n",
       "</div>"
      ],
      "text/plain": [
       "                     tpep_dropoff_datetime  trip_distance  fare_amount  \\\n",
       "tpep_pickup_datetime                                                     \n",
       "2017-10-16 19:51:30    2017-10-16 21:42:59          48.74        144.5   \n",
       "\n",
       "                      trip_duration  \n",
       "tpep_pickup_datetime                 \n",
       "2017-10-16 19:51:30          6689.0  "
      ]
     },
     "execution_count": 16,
     "metadata": {},
     "output_type": "execute_result"
    }
   ],
   "source": [
    "# Inspect outlier\n",
    "data[data.fare_amount > 125]"
   ]
  },
  {
   "cell_type": "markdown",
   "metadata": {},
   "source": [
    "Seems perfectly reasonable, so we'll leave it alone.\n",
    "\n",
    "What about the negative values? It's possible we can just invert them to make them positive."
   ]
  },
  {
   "cell_type": "code",
   "execution_count": 17,
   "metadata": {},
   "outputs": [
    {
     "data": {
      "text/html": [
       "<div>\n",
       "<style scoped>\n",
       "    .dataframe tbody tr th:only-of-type {\n",
       "        vertical-align: middle;\n",
       "    }\n",
       "\n",
       "    .dataframe tbody tr th {\n",
       "        vertical-align: top;\n",
       "    }\n",
       "\n",
       "    .dataframe thead th {\n",
       "        text-align: right;\n",
       "    }\n",
       "</style>\n",
       "<table border=\"1\" class=\"dataframe\">\n",
       "  <thead>\n",
       "    <tr style=\"text-align: right;\">\n",
       "      <th></th>\n",
       "      <th>trip_distance</th>\n",
       "      <th>fare_amount</th>\n",
       "      <th>trip_duration</th>\n",
       "    </tr>\n",
       "  </thead>\n",
       "  <tbody>\n",
       "    <tr>\n",
       "      <th>count</th>\n",
       "      <td>50.000000</td>\n",
       "      <td>50.000000</td>\n",
       "      <td>50.000000</td>\n",
       "    </tr>\n",
       "    <tr>\n",
       "      <th>mean</th>\n",
       "      <td>0.616600</td>\n",
       "      <td>-5.300000</td>\n",
       "      <td>456.720000</td>\n",
       "    </tr>\n",
       "    <tr>\n",
       "      <th>std</th>\n",
       "      <td>0.199209</td>\n",
       "      <td>1.484615</td>\n",
       "      <td>949.878532</td>\n",
       "    </tr>\n",
       "    <tr>\n",
       "      <th>min</th>\n",
       "      <td>0.230000</td>\n",
       "      <td>-11.500000</td>\n",
       "      <td>121.000000</td>\n",
       "    </tr>\n",
       "    <tr>\n",
       "      <th>25%</th>\n",
       "      <td>0.462500</td>\n",
       "      <td>-5.875000</td>\n",
       "      <td>203.250000</td>\n",
       "    </tr>\n",
       "    <tr>\n",
       "      <th>50%</th>\n",
       "      <td>0.655000</td>\n",
       "      <td>-5.000000</td>\n",
       "      <td>293.500000</td>\n",
       "    </tr>\n",
       "    <tr>\n",
       "      <th>75%</th>\n",
       "      <td>0.782500</td>\n",
       "      <td>-4.500000</td>\n",
       "      <td>389.750000</td>\n",
       "    </tr>\n",
       "    <tr>\n",
       "      <th>max</th>\n",
       "      <td>0.990000</td>\n",
       "      <td>-3.500000</td>\n",
       "      <td>6916.000000</td>\n",
       "    </tr>\n",
       "  </tbody>\n",
       "</table>\n",
       "</div>"
      ],
      "text/plain": [
       "       trip_distance  fare_amount  trip_duration\n",
       "count      50.000000    50.000000      50.000000\n",
       "mean        0.616600    -5.300000     456.720000\n",
       "std         0.199209     1.484615     949.878532\n",
       "min         0.230000   -11.500000     121.000000\n",
       "25%         0.462500    -5.875000     203.250000\n",
       "50%         0.655000    -5.000000     293.500000\n",
       "75%         0.782500    -4.500000     389.750000\n",
       "max         0.990000    -3.500000    6916.000000"
      ]
     },
     "execution_count": 17,
     "metadata": {},
     "output_type": "execute_result"
    }
   ],
   "source": [
    "# Inspect negative fare amounts to see if we can invert them\n",
    "data[data.fare_amount < 0].describe()"
   ]
  },
  {
   "cell_type": "markdown",
   "metadata": {},
   "source": [
    "From above, we can see that the fare amounts seem reasonable if we simply invert their signs. So instead of dropping them, let's just invert their signs."
   ]
  },
  {
   "cell_type": "code",
   "execution_count": 18,
   "metadata": {},
   "outputs": [],
   "source": [
    "# Invert negative fare durations\n",
    "data.fare_amount = data.fare_amount.abs()"
   ]
  },
  {
   "cell_type": "markdown",
   "metadata": {},
   "source": [
    "According to the NYC Taxi Commission, the initial starting price is $\\$$2.50 dollars and the minimum price per 0.2 miles (which is our lower bound for distance) is $\\$$0.50. Thus, it makes sense both logically and quantitavely to place a lower limit of $\\$$3.00.\n",
    "\n",
    "$$min\\ fare\\ amount = $3.00$$"
   ]
  },
  {
   "cell_type": "markdown",
   "metadata": {},
   "source": [
    "There are only seven instances below this threshold, so we'll just remove them."
   ]
  },
  {
   "cell_type": "code",
   "execution_count": 19,
   "metadata": {},
   "outputs": [
    {
     "data": {
      "text/plain": [
       "7"
      ]
     },
     "execution_count": 19,
     "metadata": {},
     "output_type": "execute_result"
    }
   ],
   "source": [
    "# Count trips with fare < $3.00\n",
    "len(data[data.fare_amount < 3])"
   ]
  },
  {
   "cell_type": "code",
   "execution_count": 20,
   "metadata": {},
   "outputs": [
    {
     "name": "stdout",
     "output_type": "stream",
     "text": [
      "Dataset size before cleaning Fare Amounts:  261208\n",
      "Dataset size after:  261201\n"
     ]
    }
   ],
   "source": [
    "# Remove trips with fare < $3.00\n",
    "print('Dataset size before cleaning Fare Amounts: ', len(data))\n",
    "data = data[data.fare_amount >= 3]\n",
    "print('Dataset size after: ', len(data))"
   ]
  },
  {
   "cell_type": "markdown",
   "metadata": {},
   "source": [
    "As usual, let's end this section by visualizing our data. Looks great!"
   ]
  },
  {
   "cell_type": "code",
   "execution_count": 21,
   "metadata": {},
   "outputs": [
    {
     "data": {
      "image/png": "[encoded data removed]",
      "text/plain": [
       "<Figure size 432x288 with 1 Axes>"
      ]
     },
     "metadata": {
      "needs_background": "light"
     },
     "output_type": "display_data"
    }
   ],
   "source": [
    "# PDF of fare amounts\n",
    "data.fare_amount.hist(bins=50)\n",
    "plt.show()"
   ]
  },
  {
   "cell_type": "code",
   "execution_count": 22,
   "metadata": {},
   "outputs": [
    {
     "data": {
      "image/png": "[encoded data removed]",
      "text/plain": [
       "<Figure size 432x288 with 1 Axes>"
      ]
     },
     "metadata": {
      "needs_background": "light"
     },
     "output_type": "display_data"
    }
   ],
   "source": [
    "# Boxplot of fare amount\n",
    "plt.boxplot(data.fare_amount, vert=False)\n",
    "plt.show()"
   ]
  },
  {
   "cell_type": "markdown",
   "metadata": {},
   "source": [
    "## Comparing Dependent Columns\n",
    "So far, we've treated each column individually. Now we have to consider the cases when two quantitatve relationships don't make sense relative to each other. Namely, we need to look at:\n",
    "1. Distance vs Duration (avg speed)\n",
    "2. Distance vs Fare Amount (fare per mile)\n",
    "2. Duration vs Fare Amount (fare per hour)\n",
    "\n",
    "To address these issues, let's create three temporary columns and view their distributions:\n",
    "### 1. Avg Speed"
   ]
  },
  {
   "cell_type": "code",
   "execution_count": 23,
   "metadata": {},
   "outputs": [],
   "source": [
    "# Calculate avg speed (mph). Multiply by 3600 (seconds to hours)\n",
    "data['avg_speed'] = round((3600 * data.trip_distance) / data.trip_duration, 2)"
   ]
  },
  {
   "cell_type": "markdown",
   "metadata": {},
   "source": [
    "Logically thinking, we might assume that avg speeds may range between ~2 and ~70 miles per hour.\n",
    "\n",
    "These avg speeds are generous, since at 2 mph, you can probably walk faster. Whereas at 70 mph, your driver is speeding most of the journey and is probably driving dangerously.\n",
    "\n",
    "Let's inspect our data, and see what it tells us."
   ]
  },
  {
   "cell_type": "code",
   "execution_count": 24,
   "metadata": {},
   "outputs": [
    {
     "data": {
      "text/plain": [
       "count    261201.000000\n",
       "mean         10.917419\n",
       "std           5.498278\n",
       "min           0.380000\n",
       "25%           7.260000\n",
       "50%           9.770000\n",
       "75%          13.140000\n",
       "max         254.780000\n",
       "Name: avg_speed, dtype: float64"
      ]
     },
     "execution_count": 24,
     "metadata": {},
     "output_type": "execute_result"
    }
   ],
   "source": [
    "# Numerically inspect avg_speeds\n",
    "data.avg_speed.describe()"
   ]
  },
  {
   "cell_type": "code",
   "execution_count": 25,
   "metadata": {},
   "outputs": [
    {
     "data": {
      "text/plain": [
       "array([ 2.17,  9.77, 36.82])"
      ]
     },
     "execution_count": 25,
     "metadata": {},
     "output_type": "execute_result"
    }
   ],
   "source": [
    "# Get 0.25 and 99.75 percentils of avg soeeds\n",
    "np.percentile(data.avg_speed, [0.25, 50, 99.75])"
   ]
  },
  {
   "cell_type": "code",
   "execution_count": 26,
   "metadata": {},
   "outputs": [
    {
     "data": {
      "image/png": "[encoded data removed]",
      "text/plain": [
       "<Figure size 432x288 with 1 Axes>"
      ]
     },
     "metadata": {
      "needs_background": "light"
     },
     "output_type": "display_data"
    }
   ],
   "source": [
    "# Visually inspect avg_speeds\n",
    "plt.boxplot(data.avg_speed, vert=False)\n",
    "plt.show()"
   ]
  },
  {
   "cell_type": "markdown",
   "metadata": {},
   "source": [
    "We can see that our data is highly skewed to the right. The percentile command showed us that 99.5% of avg speeds lie between 2.17 and 36.82 mph, but we won't just take them on face value. To help us decide on the thresholds, let's look at a subset of our data. Let's begin by looking at the distribution of trips with avg speeds from 0 to 10 mph.\n",
    "\n",
    "Notice how 2 mph seems like a suitable (and realistic) cut off point. After that, the frequency of trips sharply goes up."
   ]
  },
  {
   "cell_type": "code",
   "execution_count": 27,
   "metadata": {},
   "outputs": [
    {
     "data": {
      "image/png": "[encoded data removed]",
      "text/plain": [
       "<Figure size 432x288 with 1 Axes>"
      ]
     },
     "metadata": {
      "needs_background": "light"
     },
     "output_type": "display_data"
    }
   ],
   "source": [
    "# Frequency distribution of avg_speeds limited to avg speed of 10 mph.\n",
    "data[data.avg_speed < 10].avg_speed.hist(bins=40)\n",
    "plt.xlabel('Avg speed (mph)')\n",
    "plt.ylabel('Frequency')\n",
    "plt.show()"
   ]
  },
  {
   "cell_type": "markdown",
   "metadata": {},
   "source": [
    "Let's do the same for the other end, this time, limiting rides to 70 mph which is our hypothetical upper limit."
   ]
  },
  {
   "cell_type": "code",
   "execution_count": 28,
   "metadata": {},
   "outputs": [
    {
     "data": {
      "image/png": "[encoded data removed]",
      "text/plain": [
       "<Figure size 432x288 with 1 Axes>"
      ]
     },
     "metadata": {
      "needs_background": "light"
     },
     "output_type": "display_data"
    }
   ],
   "source": [
    "# Frequency distribution of avg_speeds [10 mph to 70 mph]\n",
    "data[(data.avg_speed > 10) & (data.avg_speed <= 70)].avg_speed.hist(bins=50)\n",
    "plt.xlabel('Avg speed (mph)')\n",
    "plt.ylabel('Frequency')\n",
    "plt.show()"
   ]
  },
  {
   "cell_type": "markdown",
   "metadata": {},
   "source": [
    "Although 35 looks like the furthest point for which we see data, we want to incorporate some logic/reason to our decision. It seems perfectly fine to have a higher avg speed especially if the duration is long and most of the journey is on the highway.\n",
    "\n",
    "Thus, we'll place 60 mph as our upper cutoff point, which again, is quantitavely and logically plausible."
   ]
  },
  {
   "cell_type": "code",
   "execution_count": 29,
   "metadata": {},
   "outputs": [
    {
     "name": "stdout",
     "output_type": "stream",
     "text": [
      "Dataset size before cleaning Avg Speed:  261201\n",
      "Dataset size after:  260716\n"
     ]
    }
   ],
   "source": [
    "# Remove trips with avg speeds < 2 mph or > 60 mph\n",
    "print('Dataset size before cleaning Avg Speed: ', len(data))\n",
    "data = data[(data.avg_speed >= 2) & (data.avg_speed <= 60)]\n",
    "print('Dataset size after: ', len(data))"
   ]
  },
  {
   "cell_type": "markdown",
   "metadata": {},
   "source": [
    "Let's look at a scatter plot of distance vs duration."
   ]
  },
  {
   "cell_type": "code",
   "execution_count": 30,
   "metadata": {},
   "outputs": [
    {
     "data": {
      "image/png": "[encoded data removed]",
      "text/plain": [
       "<Figure size 432x288 with 1 Axes>"
      ]
     },
     "metadata": {
      "needs_background": "light"
     },
     "output_type": "display_data"
    }
   ],
   "source": [
    "# Scatter plot of distance vs duration\n",
    "data.plot(kind='scatter', x='trip_distance', y='trip_duration', marker='.')\n",
    "plt.show()"
   ]
  },
  {
   "cell_type": "markdown",
   "metadata": {},
   "source": [
    "Finally, let's look at a box plot of the avg speeds one last time. Looking better."
   ]
  },
  {
   "cell_type": "code",
   "execution_count": 31,
   "metadata": {},
   "outputs": [
    {
     "data": {
      "image/png": "[encoded data removed]",
      "text/plain": [
       "<Figure size 432x288 with 1 Axes>"
      ]
     },
     "metadata": {
      "needs_background": "light"
     },
     "output_type": "display_data"
    }
   ],
   "source": [
    "# Boxplot of avg_speeds\n",
    "plt.boxplot(data.avg_speed, vert=False)\n",
    "plt.show()"
   ]
  },
  {
   "cell_type": "markdown",
   "metadata": {},
   "source": [
    "### 2-3. Fare Per Mile and Fare Per Hour"
   ]
  },
  {
   "cell_type": "markdown",
   "metadata": {},
   "source": [
    "While we'd like to do a similar procedure for $fare\\ per\\ mile$ and $fare\\ per\\ hour$, it is not so simple.\n",
    "\n",
    "According to the NYC taxi rates, the taxi fare can be estimated by:\n",
    "\n",
    "$$Fare =  $2.50 + ($2.50 * miles\\ driven)\\ OR\\ ($0.50 * minutes\\ driven\\ (in\\ slow\\ traffic)\\ )$$\n",
    "\n",
    "Thus, a car may sit idle for 5 minutes and the passenger will be charged $\\$$2.50 even while not moving. To deal with this issue, we'll just use percentile values to calculate and remove extreme cases from both $fare\\ per\\ mile$ and $fare\\ per\\ hour$."
   ]
  },
  {
   "cell_type": "code",
   "execution_count": 32,
   "metadata": {},
   "outputs": [],
   "source": [
    "# Calculate fare per mile. Subtract 2.5 as starting price.\n",
    "data['fare_per_mile'] = round((data.fare_amount - 2.5) / data.trip_distance, 2)\n",
    "\n",
    "# Calculate fare per hour. Multiply by 3600 (seconds to hours).\n",
    "# Subtract 2.5 as starting price.\n",
    "data['fare_per_hour'] = round((3600 * (data.fare_amount - 2.5)) / data.trip_duration, 2)"
   ]
  },
  {
   "cell_type": "code",
   "execution_count": 33,
   "metadata": {},
   "outputs": [
    {
     "data": {
      "text/plain": [
       "array([ 2.22    ,  3.75    , 11.692125])"
      ]
     },
     "execution_count": 33,
     "metadata": {},
     "output_type": "execute_result"
    }
   ],
   "source": [
    "# Calculate 0.25 and 99.75 percentiles for fare per mile\n",
    "np.percentile(data.fare_per_mile, [0.25, 50, 99.75])"
   ]
  },
  {
   "cell_type": "code",
   "execution_count": 34,
   "metadata": {},
   "outputs": [
    {
     "data": {
      "text/plain": [
       "array([24.      , 36.44    , 94.492125])"
      ]
     },
     "execution_count": 34,
     "metadata": {},
     "output_type": "execute_result"
    }
   ],
   "source": [
    "# Calculate 0.25 and 99.75 percentiles for fare per hour\n",
    "np.percentile(data.fare_per_hour, [0.25, 50, 99.75])"
   ]
  },
  {
   "cell_type": "code",
   "execution_count": 35,
   "metadata": {},
   "outputs": [
    {
     "name": "stdout",
     "output_type": "stream",
     "text": [
      "Dataset size before cleaning fare/mile and fare/hour:  260716\n",
      "Dataset size after:  258173\n"
     ]
    }
   ],
   "source": [
    "# Remove extreme cases for fare/mile and fare/hour\n",
    "print('Dataset size before cleaning fare/mile and fare/hour: ', len(data))\n",
    "data = data[(data.fare_per_mile >= 2.22) & (data.fare_per_mile <= 11.7) &\n",
    "            (data.fare_per_hour >= 24) & (data.fare_per_hour <= 94.5)]\n",
    "print('Dataset size after: ', len(data))"
   ]
  },
  {
   "cell_type": "markdown",
   "metadata": {},
   "source": [
    "Finally, let's look at a scatter plot between distance and fare, and then between duration and fare. Looks great."
   ]
  },
  {
   "cell_type": "code",
   "execution_count": 36,
   "metadata": {},
   "outputs": [
    {
     "data": {
      "image/png": "[encoded data removed]",
      "text/plain": [
       "<Figure size 432x288 with 1 Axes>"
      ]
     },
     "metadata": {
      "needs_background": "light"
     },
     "output_type": "display_data"
    }
   ],
   "source": [
    "# Scatter plot of distancs vs fare\n",
    "data.plot(kind='scatter', x='trip_distance', y='fare_amount', marker='.')\n",
    "plt.show()"
   ]
  },
  {
   "cell_type": "code",
   "execution_count": 37,
   "metadata": {},
   "outputs": [
    {
     "data": {
      "image/png": "[encoded data removed]",
      "text/plain": [
       "<Figure size 432x288 with 1 Axes>"
      ]
     },
     "metadata": {
      "needs_background": "light"
     },
     "output_type": "display_data"
    }
   ],
   "source": [
    "# Scatter plot of duration vs fare\n",
    "data.plot(kind='scatter', x='trip_duration', y='fare_amount', marker='.')\n",
    "plt.show()"
   ]
  },
  {
   "cell_type": "markdown",
   "metadata": {},
   "source": [
    "Before we end this section, again, let's visualize the distribution of our numeric variables. Looks much better this time! Certain ML algorithms require our data to be normally distributed, so it's good to understand the distribution of our data."
   ]
  },
  {
   "cell_type": "code",
   "execution_count": 38,
   "metadata": {},
   "outputs": [
    {
     "data": {
      "image/png": "[encoded data removed]",
      "text/plain": [
       "<Figure size 1440x1080 with 6 Axes>"
      ]
     },
     "metadata": {
      "needs_background": "light"
     },
     "output_type": "display_data"
    }
   ],
   "source": [
    "# Plot PDF of numeric variables\n",
    "data.hist(figsize=(20, 15), bins=30)\n",
    "plt.show()"
   ]
  },
  {
   "cell_type": "markdown",
   "metadata": {},
   "source": [
    "## Preparing Our Data For ML Algorithms\n",
    "### Create New Features\n",
    "ML algorithms require our data to be in numeric format. Currently, we have a datetime index for the start and end of our trips. Our model cannot use these, so instead, we'll just extract two features:\n",
    "1. Weekday or Weekend (categorical)\n",
    "2. Hour of day  (numerical)"
   ]
  },
  {
   "cell_type": "code",
   "execution_count": 39,
   "metadata": {},
   "outputs": [],
   "source": [
    "# 1 = weekday, 0 = weekend. 7 days of week.\n",
    "weekday = {0:1, 1:1, 2:1, 3:1, 4:1, 5:0, 6:0}\n",
    "\n",
    "# Create new feature: day of week. Store as type category\n",
    "data['weekday'] = data.index.weekday.map(weekday).astype('category')"
   ]
  },
  {
   "cell_type": "code",
   "execution_count": 40,
   "metadata": {},
   "outputs": [],
   "source": [
    "# Create new feature: hour of day\n",
    "data['hour'] = data.index.hour"
   ]
  },
  {
   "cell_type": "markdown",
   "metadata": {},
   "source": [
    "### Convert Hour into a Cyclical Feature\n",
    "\n",
    "The hour of day is a cyclical variable. As we have it, 1 is close to 2, and 2 is close to 3, etc. However, our current format neglects the fact that 23 is also close to 0 (because $hour$ is a cyclical variable).\n",
    "\n",
    "Let's create a better representation of the hour by mapping each hour to a x and y component on a unit circle. We know there are 2π radians in a circle and 24 hours in a day. Thus, we can get the x and y components of the hour as following:\n",
    "\n",
    "$$hour\\ cos = cos( hour * (2π / 24))$$\n",
    "$$hour\\ sin = sin( hour * (2π / 24))$$"
   ]
  },
  {
   "cell_type": "code",
   "execution_count": 41,
   "metadata": {},
   "outputs": [],
   "source": [
    "# Calculate hour_cos and hour_sin\n",
    "data['hour_cos'] = np.cos(data.hour*(2.*np.pi/24))\n",
    "data['hour_sin'] = np.sin(data.hour*(2.*np.pi/24))"
   ]
  },
  {
   "cell_type": "markdown",
   "metadata": {},
   "source": [
    "Later, we can test our model on both representations of $hour$."
   ]
  },
  {
   "cell_type": "markdown",
   "metadata": {},
   "source": [
    "### Check Our Data For Multilinearity\n",
    "\n",
    "Colinearity or multilinearity will inflate our variance, and thus, reduce the effectiveness of our model. Thus, we want our predictor variables to be linearly independent. To inspect for multilinearity, we will compute the Variance Inflation Factor (VIF) for each of our predictor variables.\n",
    "\n",
    "Our threshold for VIF will be 5. That is, a VIF > 5 indicates linear dependence which we would need to address.\n",
    "\n",
    "To begin, let's create a subset of our dataframe that only contains numeric values, while also disregarding any fare calculations."
   ]
  },
  {
   "cell_type": "code",
   "execution_count": 42,
   "metadata": {},
   "outputs": [
    {
     "name": "stdout",
     "output_type": "stream",
     "text": [
      "Columns : ['trip_distance' 'trip_duration' 'avg_speed' 'hour' 'hour_cos' 'hour_sin']\n"
     ]
    }
   ],
   "source": [
    "# Import VIF function\n",
    "from statsmodels.stats.outliers_influence import variance_inflation_factor\n",
    "\n",
    "# Drop datetime index and get numeric columns\n",
    "numeric = data.reset_index()._get_numeric_data()\n",
    "# Drop any fare calculations and columns\n",
    "numeric.drop(['fare_per_hour', 'fare_per_mile', 'fare_amount'], axis=1, inplace=True)\n",
    "\n",
    "# Print selected columns\n",
    "print('Columns :', numeric.columns.values)"
   ]
  },
  {
   "cell_type": "markdown",
   "metadata": {},
   "source": [
    "We will start by inlcuding all features and seeing the VIF scores we get.\n",
    "\n",
    "Let's define a small helper function below that will allow us to visualize the VIF scores nicely."
   ]
  },
  {
   "cell_type": "code",
   "execution_count": 43,
   "metadata": {},
   "outputs": [],
   "source": [
    "# Helper function for computing and displaying VIF scores.\n",
    "def get_vif(data) :\n",
    "    vif = pd.DataFrame()\n",
    "    vif[\"VIF\"] = [variance_inflation_factor(data.values, i) for i in range(data.shape[1])]\n",
    "    vif[\"Feature\"] = data.columns\n",
    "    return vif"
   ]
  },
  {
   "cell_type": "code",
   "execution_count": 44,
   "metadata": {},
   "outputs": [
    {
     "data": {
      "text/html": [
       "<div>\n",
       "<style scoped>\n",
       "    .dataframe tbody tr th:only-of-type {\n",
       "        vertical-align: middle;\n",
       "    }\n",
       "\n",
       "    .dataframe tbody tr th {\n",
       "        vertical-align: top;\n",
       "    }\n",
       "\n",
       "    .dataframe thead th {\n",
       "        text-align: right;\n",
       "    }\n",
       "</style>\n",
       "<table border=\"1\" class=\"dataframe\">\n",
       "  <thead>\n",
       "    <tr style=\"text-align: right;\">\n",
       "      <th></th>\n",
       "      <th>VIF</th>\n",
       "      <th>Feature</th>\n",
       "    </tr>\n",
       "  </thead>\n",
       "  <tbody>\n",
       "    <tr>\n",
       "      <th>0</th>\n",
       "      <td>9.968168</td>\n",
       "      <td>trip_distance</td>\n",
       "    </tr>\n",
       "    <tr>\n",
       "      <th>1</th>\n",
       "      <td>9.160437</td>\n",
       "      <td>trip_duration</td>\n",
       "    </tr>\n",
       "    <tr>\n",
       "      <th>2</th>\n",
       "      <td>8.291084</td>\n",
       "      <td>avg_speed</td>\n",
       "    </tr>\n",
       "    <tr>\n",
       "      <th>3</th>\n",
       "      <td>9.288919</td>\n",
       "      <td>hour</td>\n",
       "    </tr>\n",
       "    <tr>\n",
       "      <th>4</th>\n",
       "      <td>1.144650</td>\n",
       "      <td>hour_cos</td>\n",
       "    </tr>\n",
       "    <tr>\n",
       "      <th>5</th>\n",
       "      <td>2.408603</td>\n",
       "      <td>hour_sin</td>\n",
       "    </tr>\n",
       "  </tbody>\n",
       "</table>\n",
       "</div>"
      ],
      "text/plain": [
       "        VIF        Feature\n",
       "0  9.968168  trip_distance\n",
       "1  9.160437  trip_duration\n",
       "2  8.291084      avg_speed\n",
       "3  9.288919           hour\n",
       "4  1.144650       hour_cos\n",
       "5  2.408603       hour_sin"
      ]
     },
     "execution_count": 44,
     "metadata": {},
     "output_type": "execute_result"
    }
   ],
   "source": [
    "# Calculate VIF scores\n",
    "get_vif(numeric)"
   ]
  },
  {
   "cell_type": "markdown",
   "metadata": {},
   "source": [
    "Ouch! It seems like we have some issues here. Four of our features are beyond the threshold. We need to remove some features.\n",
    "\n",
    "Which ones? Well, logically thinking, the most important features are distance, duration, and of our hour versions. \n",
    "\n",
    "Let's begin comparing our VIF when we remove $hour$ vs when when remove $hour\\ sin$ and $hour\\ cos$."
   ]
  },
  {
   "cell_type": "code",
   "execution_count": 45,
   "metadata": {},
   "outputs": [
    {
     "data": {
      "text/html": [
       "<div>\n",
       "<style scoped>\n",
       "    .dataframe tbody tr th:only-of-type {\n",
       "        vertical-align: middle;\n",
       "    }\n",
       "\n",
       "    .dataframe tbody tr th {\n",
       "        vertical-align: top;\n",
       "    }\n",
       "\n",
       "    .dataframe thead th {\n",
       "        text-align: right;\n",
       "    }\n",
       "</style>\n",
       "<table border=\"1\" class=\"dataframe\">\n",
       "  <thead>\n",
       "    <tr style=\"text-align: right;\">\n",
       "      <th></th>\n",
       "      <th>VIF</th>\n",
       "      <th>Feature</th>\n",
       "    </tr>\n",
       "  </thead>\n",
       "  <tbody>\n",
       "    <tr>\n",
       "      <th>0</th>\n",
       "      <td>6.481661</td>\n",
       "      <td>trip_distance</td>\n",
       "    </tr>\n",
       "    <tr>\n",
       "      <th>1</th>\n",
       "      <td>5.619364</td>\n",
       "      <td>trip_duration</td>\n",
       "    </tr>\n",
       "    <tr>\n",
       "      <th>2</th>\n",
       "      <td>3.054608</td>\n",
       "      <td>avg_speed</td>\n",
       "    </tr>\n",
       "    <tr>\n",
       "      <th>3</th>\n",
       "      <td>1.140303</td>\n",
       "      <td>hour_cos</td>\n",
       "    </tr>\n",
       "    <tr>\n",
       "      <th>4</th>\n",
       "      <td>1.157345</td>\n",
       "      <td>hour_sin</td>\n",
       "    </tr>\n",
       "  </tbody>\n",
       "</table>\n",
       "</div>"
      ],
      "text/plain": [
       "        VIF        Feature\n",
       "0  6.481661  trip_distance\n",
       "1  5.619364  trip_duration\n",
       "2  3.054608      avg_speed\n",
       "3  1.140303       hour_cos\n",
       "4  1.157345       hour_sin"
      ]
     },
     "execution_count": 45,
     "metadata": {},
     "output_type": "execute_result"
    }
   ],
   "source": [
    "# Compute VIFs after removing hour\n",
    "get_vif(numeric.drop('hour', axis=1))"
   ]
  },
  {
   "cell_type": "code",
   "execution_count": 46,
   "metadata": {},
   "outputs": [
    {
     "data": {
      "text/html": [
       "<div>\n",
       "<style scoped>\n",
       "    .dataframe tbody tr th:only-of-type {\n",
       "        vertical-align: middle;\n",
       "    }\n",
       "\n",
       "    .dataframe tbody tr th {\n",
       "        vertical-align: top;\n",
       "    }\n",
       "\n",
       "    .dataframe thead th {\n",
       "        text-align: right;\n",
       "    }\n",
       "</style>\n",
       "<table border=\"1\" class=\"dataframe\">\n",
       "  <thead>\n",
       "    <tr style=\"text-align: right;\">\n",
       "      <th></th>\n",
       "      <th>VIF</th>\n",
       "      <th>Feature</th>\n",
       "    </tr>\n",
       "  </thead>\n",
       "  <tbody>\n",
       "    <tr>\n",
       "      <th>0</th>\n",
       "      <td>8.522162</td>\n",
       "      <td>trip_distance</td>\n",
       "    </tr>\n",
       "    <tr>\n",
       "      <th>1</th>\n",
       "      <td>7.644618</td>\n",
       "      <td>trip_duration</td>\n",
       "    </tr>\n",
       "    <tr>\n",
       "      <th>2</th>\n",
       "      <td>5.788605</td>\n",
       "      <td>avg_speed</td>\n",
       "    </tr>\n",
       "    <tr>\n",
       "      <th>3</th>\n",
       "      <td>4.403576</td>\n",
       "      <td>hour</td>\n",
       "    </tr>\n",
       "  </tbody>\n",
       "</table>\n",
       "</div>"
      ],
      "text/plain": [
       "        VIF        Feature\n",
       "0  8.522162  trip_distance\n",
       "1  7.644618  trip_duration\n",
       "2  5.788605      avg_speed\n",
       "3  4.403576           hour"
      ]
     },
     "execution_count": 46,
     "metadata": {},
     "output_type": "execute_result"
    }
   ],
   "source": [
    "# Compute VIFs after removing hour_sin and hour_cos\n",
    "get_vif(numeric.drop(['hour_sin', 'hour_cos'], axis=1))"
   ]
  },
  {
   "cell_type": "markdown",
   "metadata": {},
   "source": [
    "As you can see, we get better (lower) VIFs for all features when we remove $hour$. That makes sense because we can imagine our circular representation of $hour\\ sin$ and $hour\\ cos$ as inducing some 'randomness', and thus, decreasing linearity.\n",
    "\n",
    "We still need  lower VIF scores though, as two of them still exceed our threshold.\n",
    "\n",
    "This time, we'll also remove $avg\\ speed$ which isn't a useful predictor anyway."
   ]
  },
  {
   "cell_type": "code",
   "execution_count": 47,
   "metadata": {},
   "outputs": [
    {
     "data": {
      "text/html": [
       "<div>\n",
       "<style scoped>\n",
       "    .dataframe tbody tr th:only-of-type {\n",
       "        vertical-align: middle;\n",
       "    }\n",
       "\n",
       "    .dataframe tbody tr th {\n",
       "        vertical-align: top;\n",
       "    }\n",
       "\n",
       "    .dataframe thead th {\n",
       "        text-align: right;\n",
       "    }\n",
       "</style>\n",
       "<table border=\"1\" class=\"dataframe\">\n",
       "  <thead>\n",
       "    <tr style=\"text-align: right;\">\n",
       "      <th></th>\n",
       "      <th>VIF</th>\n",
       "      <th>Feature</th>\n",
       "    </tr>\n",
       "  </thead>\n",
       "  <tbody>\n",
       "    <tr>\n",
       "      <th>0</th>\n",
       "      <td>5.112218</td>\n",
       "      <td>trip_distance</td>\n",
       "    </tr>\n",
       "    <tr>\n",
       "      <th>1</th>\n",
       "      <td>5.542898</td>\n",
       "      <td>trip_duration</td>\n",
       "    </tr>\n",
       "    <tr>\n",
       "      <th>2</th>\n",
       "      <td>1.136766</td>\n",
       "      <td>hour_cos</td>\n",
       "    </tr>\n",
       "    <tr>\n",
       "      <th>3</th>\n",
       "      <td>1.153591</td>\n",
       "      <td>hour_sin</td>\n",
       "    </tr>\n",
       "  </tbody>\n",
       "</table>\n",
       "</div>"
      ],
      "text/plain": [
       "        VIF        Feature\n",
       "0  5.112218  trip_distance\n",
       "1  5.542898  trip_duration\n",
       "2  1.136766       hour_cos\n",
       "3  1.153591       hour_sin"
      ]
     },
     "execution_count": 47,
     "metadata": {},
     "output_type": "execute_result"
    }
   ],
   "source": [
    "get_vif(numeric.drop(['hour', 'avg_speed'], axis=1))"
   ]
  },
  {
   "cell_type": "markdown",
   "metadata": {},
   "source": [
    "Again, we can see better VIF scores, but we still have distance and duration with high VIF scores. But we don't really want to delete them...\n",
    "\n",
    "Recall from our previous visualizations, that distance and duration were highly skewed to the right."
   ]
  },
  {
   "cell_type": "code",
   "execution_count": 48,
   "metadata": {},
   "outputs": [
    {
     "data": {
      "image/png": "[encoded data removed]",
      "text/plain": [
       "<Figure size 720x288 with 2 Axes>"
      ]
     },
     "metadata": {
      "needs_background": "light"
     },
     "output_type": "display_data"
    }
   ],
   "source": [
    "# Visualize distributions of distance and duration\n",
    "numeric[['trip_duration', 'trip_distance']].hist(figsize=(10, 4))\n",
    "plt.show()"
   ]
  },
  {
   "cell_type": "markdown",
   "metadata": {},
   "source": [
    "Let's take the log of these features. Many ML algorithms requre our data to be normally distributed, so this transformation can potentially hit two birds with one stone. Let's see how the log function transforms our distribution and VIF scores.\n",
    "\n",
    "Note we don't need to take the log of $hour\\ sin$ and $hour\\ cos$ as well. We can't anyway because the log fucntion isn't defined for negative values.\n",
    "\n",
    "Here is the new distribution for trip $distance$ and $duration$:"
   ]
  },
  {
   "cell_type": "code",
   "execution_count": 49,
   "metadata": {},
   "outputs": [
    {
     "data": {
      "image/png": "[encoded data removed]",
      "text/plain": [
       "<Figure size 720x288 with 2 Axes>"
      ]
     },
     "metadata": {
      "needs_background": "light"
     },
     "output_type": "display_data"
    }
   ],
   "source": [
    "# Visualize distributions of distance and duration after taking log\n",
    "np.log(numeric[['trip_duration', 'trip_distance']]).hist(figsize=(10, 4))\n",
    "plt.show()"
   ]
  },
  {
   "cell_type": "code",
   "execution_count": 50,
   "metadata": {},
   "outputs": [
    {
     "data": {
      "text/html": [
       "<div>\n",
       "<style scoped>\n",
       "    .dataframe tbody tr th:only-of-type {\n",
       "        vertical-align: middle;\n",
       "    }\n",
       "\n",
       "    .dataframe tbody tr th {\n",
       "        vertical-align: top;\n",
       "    }\n",
       "\n",
       "    .dataframe thead th {\n",
       "        text-align: right;\n",
       "    }\n",
       "</style>\n",
       "<table border=\"1\" class=\"dataframe\">\n",
       "  <thead>\n",
       "    <tr style=\"text-align: right;\">\n",
       "      <th></th>\n",
       "      <th>VIF</th>\n",
       "      <th>Feature</th>\n",
       "    </tr>\n",
       "  </thead>\n",
       "  <tbody>\n",
       "    <tr>\n",
       "      <th>0</th>\n",
       "      <td>2.000753</td>\n",
       "      <td>trip_duration</td>\n",
       "    </tr>\n",
       "    <tr>\n",
       "      <th>1</th>\n",
       "      <td>1.782057</td>\n",
       "      <td>trip_distance</td>\n",
       "    </tr>\n",
       "    <tr>\n",
       "      <th>2</th>\n",
       "      <td>1.153582</td>\n",
       "      <td>hour_sin</td>\n",
       "    </tr>\n",
       "    <tr>\n",
       "      <th>3</th>\n",
       "      <td>1.092506</td>\n",
       "      <td>hour_cos</td>\n",
       "    </tr>\n",
       "  </tbody>\n",
       "</table>\n",
       "</div>"
      ],
      "text/plain": [
       "        VIF        Feature\n",
       "0  2.000753  trip_duration\n",
       "1  1.782057  trip_distance\n",
       "2  1.153582       hour_sin\n",
       "3  1.092506       hour_cos"
      ]
     },
     "execution_count": 50,
     "metadata": {},
     "output_type": "execute_result"
    }
   ],
   "source": [
    "# Select duration and distance columns and take log\n",
    "log_distance_duration = np.log(numeric[['trip_duration', 'trip_distance']])\n",
    "# Select hour_sin and hour_cos columns\n",
    "hour = numeric[['hour_sin', 'hour_cos']]\n",
    "\n",
    "# Concatenate all columns into one dataframe\n",
    "log_numeric = pd.concat( [log_distance_duration , hour], axis=1 )\n",
    "\n",
    "# Compute VIF scores\n",
    "get_vif(log_numeric)"
   ]
  },
  {
   "cell_type": "markdown",
   "metadata": {},
   "source": [
    "Wow! A significant difference. Our data looks much better and our VIF scores are much better.\n",
    "\n",
    "In case you're curious, here is what we get if we use the other version of $hour$. Not nearly as good."
   ]
  },
  {
   "cell_type": "code",
   "execution_count": 51,
   "metadata": {},
   "outputs": [
    {
     "data": {
      "text/html": [
       "<div>\n",
       "<style scoped>\n",
       "    .dataframe tbody tr th:only-of-type {\n",
       "        vertical-align: middle;\n",
       "    }\n",
       "\n",
       "    .dataframe tbody tr th {\n",
       "        vertical-align: top;\n",
       "    }\n",
       "\n",
       "    .dataframe thead th {\n",
       "        text-align: right;\n",
       "    }\n",
       "</style>\n",
       "<table border=\"1\" class=\"dataframe\">\n",
       "  <thead>\n",
       "    <tr style=\"text-align: right;\">\n",
       "      <th></th>\n",
       "      <th>VIF</th>\n",
       "      <th>Feature</th>\n",
       "    </tr>\n",
       "  </thead>\n",
       "  <tbody>\n",
       "    <tr>\n",
       "      <th>0</th>\n",
       "      <td>7.332210</td>\n",
       "      <td>trip_duration</td>\n",
       "    </tr>\n",
       "    <tr>\n",
       "      <th>1</th>\n",
       "      <td>1.805062</td>\n",
       "      <td>trip_distance</td>\n",
       "    </tr>\n",
       "    <tr>\n",
       "      <th>2</th>\n",
       "      <td>5.837574</td>\n",
       "      <td>hour</td>\n",
       "    </tr>\n",
       "  </tbody>\n",
       "</table>\n",
       "</div>"
      ],
      "text/plain": [
       "        VIF        Feature\n",
       "0  7.332210  trip_duration\n",
       "1  1.805062  trip_distance\n",
       "2  5.837574           hour"
      ]
     },
     "execution_count": 51,
     "metadata": {},
     "output_type": "execute_result"
    }
   ],
   "source": [
    "# Repeat steps above, but on numeric version of hour\n",
    "hour2 = numeric[['hour']]\n",
    "log_numeric2 = pd.concat( [log_distance_duration , hour2], axis=1 )\n",
    "get_vif(log_numeric2)"
   ]
  },
  {
   "cell_type": "markdown",
   "metadata": {},
   "source": [
    "### Encode Categorical Data\n",
    "\n",
    "Some final steps. Here is what we need to do:\n",
    "1. Combine our scaled down data (with optimal VIF scores) with $fare\\ amount$ and any categorical data.\n",
    "2. Encode categorical variables into numeric types\n",
    "\n",
    "Here is what our data currenltly looks like:"
   ]
  },
  {
   "cell_type": "code",
   "execution_count": 52,
   "metadata": {},
   "outputs": [
    {
     "name": "stdout",
     "output_type": "stream",
     "text": [
      "<class 'pandas.core.frame.DataFrame'>\n",
      "DatetimeIndex: 258173 entries, 2008-12-31 17:48:27 to 2017-12-31 23:48:11\n",
      "Data columns (total 11 columns):\n",
      "tpep_dropoff_datetime    258173 non-null datetime64[ns]\n",
      "trip_distance            258173 non-null float64\n",
      "fare_amount              258173 non-null float64\n",
      "trip_duration            258173 non-null float64\n",
      "avg_speed                258173 non-null float64\n",
      "fare_per_mile            258173 non-null float64\n",
      "fare_per_hour            258173 non-null float64\n",
      "weekday                  258173 non-null category\n",
      "hour                     258173 non-null int64\n",
      "hour_cos                 258173 non-null float64\n",
      "hour_sin                 258173 non-null float64\n",
      "dtypes: category(1), datetime64[ns](1), float64(8), int64(1)\n",
      "memory usage: 21.9 MB\n"
     ]
    }
   ],
   "source": [
    "# Look at our columns\n",
    "data.info()"
   ]
  },
  {
   "cell_type": "code",
   "execution_count": 53,
   "metadata": {},
   "outputs": [],
   "source": [
    "# Select only fare amount and weekday columns\n",
    "data = data.reset_index()[['fare_amount', 'weekday']]\n",
    "# Concat with our cleaned scaled data from above.\n",
    "data = pd.concat([data, log_numeric], axis=1)\n",
    "\n",
    "# Encode categorical data (weekday)\n",
    "data = pd.get_dummies(data, drop_first=True)\n",
    "# Rename column as weekday instead of weekday_1\n",
    "data.rename(columns={'weekday_1': 'weekday'}, inplace=True)"
   ]
  },
  {
   "cell_type": "markdown",
   "metadata": {},
   "source": [
    "Let's visualize the distribution of our numeric data one last time..."
   ]
  },
  {
   "cell_type": "code",
   "execution_count": 54,
   "metadata": {},
   "outputs": [
    {
     "data": {
      "image/png": "[encoded data removed]",
      "text/plain": [
       "<Figure size 720x720 with 6 Axes>"
      ]
     },
     "metadata": {
      "needs_background": "light"
     },
     "output_type": "display_data"
    }
   ],
   "source": [
    "# Plot PDFs of numeric features\n",
    "data.hist(figsize=(10, 10), bins=9)\n",
    "plt.show()"
   ]
  },
  {
   "cell_type": "markdown",
   "metadata": {},
   "source": [
    "## Out-of-the-box Machine Learning Algorithms\n",
    "At this stage, our data is ready and we can begin exploring some machine learning algorithms. We'll start by using out-of-the-box models, and then we'll go about fine tuning them after we've selected one or two models we want to explore.\n",
    "\n",
    "First, we'll split our data into training and testing tests.\n",
    "\n",
    "We'll also import `mean_squared_error()` since we'll be using it as a measure for model performance.\n",
    "\n"
   ]
  },
  {
   "cell_type": "code",
   "execution_count": 77,
   "metadata": {},
   "outputs": [],
   "source": [
    "from sklearn.model_selection import train_test_split\n",
    "from sklearn.metrics import mean_squared_error\n",
    "from sklearn.model_selection import cross_val_score\n",
    "\n",
    "# Split data into training and testing sets\n",
    "X, y = data.drop('fare_amount', axis=1), data.fare_amount\n",
    "X_train, X_test, y_train, y_test = train_test_split(X, y, random_state = 42)"
   ]
  },
  {
   "cell_type": "markdown",
   "metadata": {},
   "source": [
    " Since this is a regression problem, my intuition will be to use:\n",
    "1. Simple Linear Regression\n",
    "2. Random Forests\n",
    "3. XGBoost\n",
    "\n",
    "For each model, we will \n",
    "1. Cross-validate on the training set.\n",
    "2. Test on the testing set \n",
    "\n",
    "We do this to check if the model is overfitting our data. Remember that at this stage, we are performing out of the box evaluations to get a sense for which algorithms we want select and fine tune later on."
   ]
  },
  {
   "cell_type": "markdown",
   "metadata": {},
   "source": [
    "### Linear Regression"
   ]
  },
  {
   "cell_type": "code",
   "execution_count": 224,
   "metadata": {},
   "outputs": [
    {
     "name": "stdout",
     "output_type": "stream",
     "text": [
      "Untuned Linear Regression RMSE (test data): 3.5900429679148673\n",
      "Mean 5-fold CV (training data): 3.6053310911106586\n",
      "Standard deviation 0.05210926124586425\n"
     ]
    }
   ],
   "source": [
    "from sklearn.linear_model import LinearRegression\n",
    "\n",
    "# Create model and fit data\n",
    "lin = LinearRegression()\n",
    "lin.fit(X_train, y_train)\n",
    "\n",
    "# Predict and calculate RMSE on test data\n",
    "y_pred = lin.predict(X_test)\n",
    "print('Untuned Linear Regression RMSE (test data):',\n",
    "          np.sqrt(mean_squared_error(y_test, y_pred)))\n",
    "\n",
    "# Perform 5 fold cross validation using same model\n",
    "scores = cross_val_score(lin, X_train, y_train, scoring='neg_mean_squared_error', cv=5)\n",
    "lin_rmse_scores = np.sqrt(-scores)\n",
    "\n",
    "# Display results\n",
    "print('Mean 5-fold CV (training data):', lin_rmse_scores.mean())\n",
    "print('Standard deviation', lin_rmse_scores.std())"
   ]
  },
  {
   "cell_type": "markdown",
   "metadata": {},
   "source": [
    "On a thoroughly cleaned dataset, we see that an out-of-the-box Linear Regression model provides an RMSE of ~$\\$$3.60. Given that the median fare is $\\$$9.00 (because most trips are short), we would like to see a better prediction. At least we see the model ins't overfitting our data."
   ]
  },
  {
   "cell_type": "markdown",
   "metadata": {},
   "source": [
    "### Random Forest"
   ]
  },
  {
   "cell_type": "code",
   "execution_count": 226,
   "metadata": {},
   "outputs": [
    {
     "name": "stdout",
     "output_type": "stream",
     "text": [
      "Untuned Random Forest RMSE (test data): 0.49690705286848436\n",
      "Mean 5-fold CV (training data): 0.5043665578808395\n",
      "Standard deviation 0.025537834242805996\n"
     ]
    }
   ],
   "source": [
    "from sklearn.ensemble import RandomForestRegressor\n",
    "\n",
    "# Create model and fit data\n",
    "rf = RandomForestRegressor()\n",
    "rf.fit(X_train, y_train)\n",
    "\n",
    "# Predict and calculate RMSE on test data\n",
    "y_pred = rf.predict(X_test)\n",
    "print('Untuned Random Forest RMSE (test data):',\n",
    "          np.sqrt(mean_squared_error(y_test, y_pred)))\n",
    "\n",
    "# Perform 5 fold cross validation using same model\n",
    "scores = cross_val_score(rf, X_train, y_train, scoring='neg_mean_squared_error', cv=5)\n",
    "rf_rmse_scores = np.sqrt(-scores)\n",
    "\n",
    "# Display results\n",
    "print('Mean 5-fold CV (training data):', rf_rmse_scores.mean())\n",
    "print('Standard deviation', rf_rmse_scores.std())"
   ]
  },
  {
   "cell_type": "markdown",
   "metadata": {},
   "source": [
    "Impressive! Our Random Forest Implementation sliced our RMSE by a factor of 7. It's now ~$\\$$0.50 which is much better and actually quite good. Again, it is not overfitting our data!"
   ]
  },
  {
   "cell_type": "markdown",
   "metadata": {},
   "source": [
    "### XGBoost"
   ]
  },
  {
   "cell_type": "code",
   "execution_count": 228,
   "metadata": {},
   "outputs": [
    {
     "name": "stdout",
     "output_type": "stream",
     "text": [
      "Untuned XGBoost Regressor RMSE (test data): 0.5163210495322434\n",
      "Mean 5-fold CV (test data): 0.5034685649982713\n",
      "Standard deviation 0.026285607545094923\n"
     ]
    }
   ],
   "source": [
    "import xgboost as xgb\n",
    "\n",
    "# Create model and fit data\n",
    "xgb_reg = xgb.XGBRegressor()\n",
    "xgb_reg.fit(X_train, y_train)\n",
    "\n",
    "# Predict and calculate RMSE on test data\n",
    "y_pred = xgb_reg.predict(X_test)\n",
    "print('Untuned XGBoost Regressor RMSE (test data):',\n",
    "          np.sqrt(mean_squared_error(y_test, y_pred)))\n",
    "\n",
    "# Perform 5 fold cross validation using same model\n",
    "scores = cross_val_score(rf, X_train, y_train, scoring='neg_mean_squared_error', cv=5)\n",
    "xgb_reg_rmse_scores = np.sqrt(-scores)\n",
    "\n",
    "# Display results\n",
    "print('Mean 5-fold CV (test data):', xgb_reg_rmse_scores.mean())\n",
    "print('Standard deviation', xgb_reg_rmse_scores.std())"
   ]
  },
  {
   "cell_type": "markdown",
   "metadata": {},
   "source": [
    "Wow! An out of the box XGBoost algorithm produces a similar result to Random Forests. Let's continue our journey forwards."
   ]
  },
  {
   "cell_type": "markdown",
   "metadata": {},
   "source": [
    "## Fine Tuning Our Models\n",
    "Given these results, it seems pretty obvious that we'll want to tune the last two models: Random Forests and XGBoost. The goal of course is to see which of them can provide the best (lowest) RMSE score without overfitting our data.\n",
    "\n",
    "Since we are using a Decision Tree as the base class/learner for both models, we will limit $n\\_estimators$ to 200 for all XGBoost predictions and 400 for all Random Forest calculations. For both algorithms, we begin by using Random Search and move on to Grid Search (for hyperparameter tuning).\n",
    "\n",
    "Results will be summarized at the end of each section.\n",
    "\n",
    "### Random Forest\n",
    "\n",
    "**Random Search 1**"
   ]
  },
  {
   "cell_type": "code",
   "execution_count": 206,
   "metadata": {},
   "outputs": [],
   "source": [
    "from sklearn.model_selection import GridSearchCV\n",
    "from sklearn.model_selection import RandomizedSearchCV"
   ]
  },
  {
   "cell_type": "code",
   "execution_count": 210,
   "metadata": {},
   "outputs": [],
   "source": [
    "# Define random grid parameters\n",
    "random_grid = {'n_estimators': [400],\n",
    "           'max_features': [2, 3],\n",
    "           'max_depth': [40, 60, 80, 100],\n",
    "           'min_samples_split': [5, 10, 15, 20],\n",
    "           'min_samples_leaf': [2, 5, 10, 15]}\n",
    "\n",
    "# Random search of parameters using 3 fold cross validation.\n",
    "# Search 50 combinations, and use all available cores\n",
    "rf_random_grid = RandomizedSearchCV(estimator=rf, param_distributions=random_grid,\n",
    "                                    scoring='neg_mean_squared_error', n_iter=50, cv=3,\n",
    "                                     n_jobs=-1, random_state=42)\n",
    "\n",
    "# Fit our data\n",
    "rf_random_grid.fit(X_train, y_train);"
   ]
  },
  {
   "cell_type": "code",
   "execution_count": 212,
   "metadata": {},
   "outputs": [
    {
     "name": "stdout",
     "output_type": "stream",
     "text": [
      "Best parameters found:  {'n_estimators': 400, 'min_samples_split': 10, 'min_samples_leaf': 2, 'max_features': 3, 'max_depth': 100}\n",
      "Lowest RMSE found using 400 estimators:  0.4797140774652929\n"
     ]
    }
   ],
   "source": [
    "# Display best params + RMSE\n",
    "print(\"Best parameters found: \", rf_random_grid.best_params_)\n",
    "print(\"Lowest RMSE found using 400 estimators: \", np.sqrt(np.abs(rf_random_grid.best_score_)))"
   ]
  },
  {
   "cell_type": "markdown",
   "metadata": {},
   "source": [
    "**Grid Search 1**"
   ]
  },
  {
   "cell_type": "code",
   "execution_count": 219,
   "metadata": {},
   "outputs": [],
   "source": [
    "# Define random grid parameters\n",
    "cv_grid = {'n_estimators': [400],\n",
    "               'max_features': [3],\n",
    "               'max_depth': [80, 90, 100, 110],\n",
    "               'min_samples_split': [6, 8, 10, 12],\n",
    "               'min_samples_leaf': [2, 4, 6, 8]}\n",
    "\n",
    "# Grid search of parameters using 3 fold cross validation.\n",
    "# Search all 64 different combinations, and use all available cores\n",
    "rf_grid = GridSearchCV(estimator = rf, param_grid = cv_grid, cv = 3,\n",
    "                       scoring='neg_mean_squared_error', n_jobs = -1)\n",
    "\n",
    "# Fit our data\n",
    "rf_grid.fit(X_train, y_train);"
   ]
  },
  {
   "cell_type": "code",
   "execution_count": 220,
   "metadata": {},
   "outputs": [
    {
     "name": "stdout",
     "output_type": "stream",
     "text": [
      "Best parameters found:  {'max_depth': 110, 'max_features': 3, 'min_samples_leaf': 2, 'min_samples_split': 8, 'n_estimators': 400}\n",
      "Lowest RMSE found:  0.47851484013365814\n"
     ]
    }
   ],
   "source": [
    "# Display best params + RMSE\n",
    "print(\"Best parameters found: \", rf_grid.best_params_)\n",
    "print(\"Lowest RMSE found: \", np.sqrt(np.abs(rf_grid.best_score_)))"
   ]
  },
  {
   "cell_type": "markdown",
   "metadata": {},
   "source": [
    "**Grid Search 2**"
   ]
  },
  {
   "cell_type": "code",
   "execution_count": 221,
   "metadata": {},
   "outputs": [],
   "source": [
    "# Define random grid parameters\n",
    "cv_grid = {'n_estimators': [400],\n",
    "               'max_features': [3],\n",
    "               'max_depth': [90, 100, 110],\n",
    "               'min_samples_split': [7, 8, 9],\n",
    "               'min_samples_leaf': [2, 3, 4]}\n",
    "\n",
    "# Grid search of parameters using 3 fold cross validation.\n",
    "# Search all 64 different combinations, and use all available cores\n",
    "rf_grid = GridSearchCV(estimator = rf, param_grid = cv_grid, cv = 3,\n",
    "                       scoring='neg_mean_squared_error', n_jobs = -1)\n",
    "\n",
    "# Fit our data\n",
    "rf_grid.fit(X_train, y_train);"
   ]
  },
  {
   "cell_type": "code",
   "execution_count": 230,
   "metadata": {},
   "outputs": [
    {
     "name": "stdout",
     "output_type": "stream",
     "text": [
      "Best parameters found:  {'max_depth': 110, 'max_features': 3, 'min_samples_leaf': 2, 'min_samples_split': 7, 'n_estimators': 400}\n",
      "Lowest RMSE found:  0.47811218035965286\n"
     ]
    }
   ],
   "source": [
    "# Save best RF estimator\n",
    "best_rf_model = rf_grid.best_estimator_\n",
    "\n",
    "# Display best params + RMSE\n",
    "print(\"Best parameters found: \", rf_grid.best_params_)\n",
    "print(\"Lowest RMSE found: \", np.sqrt(np.abs(rf_grid.best_score_)))"
   ]
  },
  {
   "cell_type": "markdown",
   "metadata": {},
   "source": [
    "As you can see, by tuning our Random Forest, we managed to get a 5-6% decrease from our original out-of-the-box RMSE score. It is unlikely to get a score that is significantly better. Now, let's test our best RF model on our test data. An RMSE of ~$\\$$0.46. Great!"
   ]
  },
  {
   "cell_type": "code",
   "execution_count": 231,
   "metadata": {},
   "outputs": [
    {
     "name": "stdout",
     "output_type": "stream",
     "text": [
      "Tuned Random Forest RMSE (test data): 0.46043237632343353\n"
     ]
    }
   ],
   "source": [
    "y_pred = best_rf_model.predict(X_test)\n",
    "print('Tuned Random Forest RMSE (test data):',\n",
    "          np.sqrt(mean_squared_error(y_test, y_pred)))"
   ]
  },
  {
   "cell_type": "markdown",
   "metadata": {},
   "source": [
    "### XGBoost\n",
    "\n",
    "Again, we need to test our model with different hyperparamter values to see how much we can optimize our RMSE score. We'll begin with RandomSearch and move on to Grid Search. Again, a summary will be given at the end."
   ]
  },
  {
   "cell_type": "markdown",
   "metadata": {},
   "source": [
    "**Random Search 1**"
   ]
  },
  {
   "cell_type": "code",
   "execution_count": 179,
   "metadata": {},
   "outputs": [
    {
     "name": "stdout",
     "output_type": "stream",
     "text": [
      "Best parameters found:  {'subsample': 0.3, 'objective': 'reg:linear', 'n_estimators': 200, 'max_depth': 5, 'learning_rate': 0.1, 'colsample_bytree': 0.4}\n",
      "Lowest RMSE found with 200 estimators:  0.481280700144203\n"
     ]
    }
   ],
   "source": [
    "# Create an initial set of hyperparametrs to test\n",
    "random_grid = {'learning_rate': [0.001, 0.01, 0.1],\n",
    "               'max_depth': [5, 10, 15],\n",
    "               'colsample_bytree': [0.2, 0.3, 0.4],\n",
    "               'objective': ['reg:linear'],\n",
    "               'subsample': [0.2, 0.3, 0.4],\n",
    "               'n_estimators': [200]}\n",
    "\n",
    "# Initialize a random search with 25 iterations, 3-fold cross validation\n",
    "xgb_random_grid = RandomizedSearchCV(estimator=xgb_reg, param_distributions=random_grid,\n",
    "                                    scoring='neg_mean_squared_error', n_iter=25, cv=3,\n",
    "                                     n_jobs=-1, random_state=42)\n",
    "\n",
    "# Fit randomsearch on data\n",
    "xgb_random_grid.fit(X_train, y_train);\n",
    "\n",
    "# Display best params + RMSE\n",
    "print(\"Best parameters found: \", xgb_random_grid.best_params_)\n",
    "print(\"Lowest RMSE found with 200 estimators: \", np.sqrt(np.abs(xgb_random_grid.best_score_))) "
   ]
  },
  {
   "cell_type": "markdown",
   "metadata": {},
   "source": [
    "**Grid Search 1**"
   ]
  },
  {
   "cell_type": "code",
   "execution_count": 189,
   "metadata": {},
   "outputs": [
    {
     "name": "stdout",
     "output_type": "stream",
     "text": [
      "Best parameters found:  {'colsample_bytree': 0.6, 'learning_rate': 0.05, 'max_depth': 8, 'n_estimators': 200, 'objective': 'reg:linear', 'subsample': 0.6}\n",
      "Lowest RMSE found:  0.4625378003718493\n"
     ]
    }
   ],
   "source": [
    "# Create an initial set of hyperparametrs to test\n",
    "cv_grid = {'learning_rate': [ 0.05, 0.1, 0.2],\n",
    "               'max_depth': [5, 8, 10],\n",
    "               'colsample_bytree': [0.2, 0.4, 0.6],\n",
    "               'objective': ['reg:linear'],\n",
    "               'subsample': [0.2, 0.4, 0.6],\n",
    "               'n_estimators': [200]}\n",
    "\n",
    "# Initialize Grid Search with 81 iterations, 3-fold cross validation. 200 Estimators\n",
    "xgb_grid = GridSearchCV(estimator = xgb_reg, param_grid = cv_grid, cv = 3, n_jobs = -1,\n",
    "                       scoring='neg_mean_squared_error')\n",
    "\n",
    "# Fit Grid Search on data\n",
    "xgb_grid.fit(X_train, y_train);\n",
    "\n",
    "# Display best params + RMSE\n",
    "print(\"Best parameters found: \", xgb_grid.best_params_)\n",
    "print(\"Lowest RMSE found: \", np.sqrt(np.abs(xgb_grid.best_score_)))"
   ]
  },
  {
   "cell_type": "markdown",
   "metadata": {},
   "source": [
    "**Grid Search 2**"
   ]
  },
  {
   "cell_type": "code",
   "execution_count": 190,
   "metadata": {},
   "outputs": [
    {
     "name": "stdout",
     "output_type": "stream",
     "text": [
      "Best parameters found:  {'colsample_bytree': 0.6, 'learning_rate': 0.075, 'max_depth': 7, 'n_estimators': 200, 'objective': 'reg:linear', 'subsample': 0.6}\n",
      "Lowest RMSE found:  0.4595204995688607\n"
     ]
    }
   ],
   "source": [
    "# Create an initial set of hyperparametrs to test\n",
    "cv_grid = {'learning_rate': [ 0.05, 0.075, 0.1],\n",
    "               'max_depth': [7, 8, 9],\n",
    "               'colsample_bytree': [0.5, 0.6, 0.7],\n",
    "               'objective': ['reg:linear'],\n",
    "               'subsample': [0.5, 0.6, 0.7],\n",
    "               'n_estimators': [200]}\n",
    "\n",
    "# Initialize Grid Search with 81 iterations, 3-fold cross validation. 200 Estimators\n",
    "xgb_grid = GridSearchCV(estimator = xgb_reg, param_grid = cv_grid, cv = 3, n_jobs = -1,\n",
    "                       scoring='neg_mean_squared_error')\n",
    "\n",
    "# Fit Grid Search on data\n",
    "xgb_grid.fit(X_train, y_train);\n",
    "\n",
    "# Save best estimator\n",
    "xgb_best_model2 = xgb_grid.best_estimator_\n",
    "\n",
    "# Display best params + RMSE\n",
    "print(\"Best parameters found: \", xgb_grid.best_params_)\n",
    "#0.5054 100 estimators, RE-RUN with 200\n",
    "print(\"Lowest RMSE found: \", np.sqrt(np.abs(xgb_grid.best_score_)))"
   ]
  },
  {
   "cell_type": "markdown",
   "metadata": {},
   "source": [
    "**Results:**\n",
    "\n",
    "As you can see, we slowly improved our RMSE score (a little under ~$\\$$0.46), and it's unlikley to get significantly better. Overall, our tuned XGBoost model was ~8\\% better than the general untuned model. Again, let's end by testing on the test set. Once again, an RMSE of ~$\\$$0.46 as before."
   ]
  },
  {
   "cell_type": "code",
   "execution_count": 232,
   "metadata": {},
   "outputs": [
    {
     "name": "stdout",
     "output_type": "stream",
     "text": [
      "Tuned XGBoost RMSE (test data): 0.4609566964746832\n"
     ]
    }
   ],
   "source": [
    "y_pred = xgb_best_model2.predict(X_test)\n",
    "print('Tuned XGBoost RMSE (test data):',\n",
    "          np.sqrt(mean_squared_error(y_test, y_pred)))"
   ]
  },
  {
   "cell_type": "markdown",
   "metadata": {},
   "source": [
    "## Summary\n",
    "\n",
    "This concludes our journey for this project. We got the same RMSE value for both XGBoost and Random Forests: ~$\\$$0.46. Considering that the median fare was $9.00 (from our training set), I think this was a good estimation."
   ]
  }
 ],
 "metadata": {
  "kernelspec": {
   "display_name": "Python 3",
   "language": "python",
   "name": "python3"
  },
  "language_info": {
   "codemirror_mode": {
    "name": "ipython",
    "version": 3
   },
   "file_extension": ".py",
   "mimetype": "text/x-python",
   "name": "python",
   "nbconvert_exporter": "python",
   "pygments_lexer": "ipython3",
   "version": "3.7.0"
  }
 },
 "nbformat": 4,
 "nbformat_minor": 2
}
